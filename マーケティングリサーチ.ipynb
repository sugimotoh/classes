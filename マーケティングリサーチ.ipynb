{
  "nbformat": 4,
  "nbformat_minor": 0,
  "metadata": {
    "colab": {
      "provenance": [],
      "authorship_tag": "ABX9TyPybqapvTaopftgYGpm6v6/",
      "include_colab_link": true
    },
    "kernelspec": {
      "name": "python3",
      "display_name": "Python 3"
    },
    "language_info": {
      "name": "python"
    }
  },
  "cells": [
    {
      "cell_type": "markdown",
      "metadata": {
        "id": "view-in-github",
        "colab_type": "text"
      },
      "source": [
        "<a href=\"https://colab.research.google.com/github/sugimotoh/classes/blob/main/%E3%83%9E%E3%83%BC%E3%82%B1%E3%83%86%E3%82%A3%E3%83%B3%E3%82%B0%E3%83%AA%E3%82%B5%E3%83%BC%E3%83%81.ipynb\" target=\"_parent\"><img src=\"https://colab.research.google.com/assets/colab-badge.svg\" alt=\"Open In Colab\"/></a>"
      ]
    },
    {
      "cell_type": "code",
      "execution_count": null,
      "metadata": {
        "id": "ToIpSM1HKvSy"
      },
      "outputs": [],
      "source": [
        "keywords = [\"データサイエンス\", \"AI\", \"プログラミング\", \"ChatGPT\"]\n",
        "timeframe = 'today 5-y' # 過去5年間のデータ\n",
        "geo = 'JP' # 日本全体のデータ"
      ]
    }
  ]
}