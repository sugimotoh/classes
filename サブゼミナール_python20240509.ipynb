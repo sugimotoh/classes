{
  "cells": [
    {
      "cell_type": "markdown",
      "metadata": {
        "id": "view-in-github",
        "colab_type": "text"
      },
      "source": [
        "<a href=\"https://colab.research.google.com/github/sugimotoh/classes/blob/main/%E3%82%B5%E3%83%96%E3%82%BC%E3%83%9F%E3%83%8A%E3%83%BC%E3%83%AB_python20240509.ipynb\" target=\"_parent\"><img src=\"https://colab.research.google.com/assets/colab-badge.svg\" alt=\"Open In Colab\"/></a>"
      ]
    },
    {
      "cell_type": "markdown",
      "metadata": {
        "id": "UzrLXmamX-Z3"
      },
      "source": [
        "# **Google colaboratoryによるプログラミング**"
      ]
    },
    {
      "cell_type": "markdown",
      "metadata": {
        "id": "jnc4ksEYZkH7"
      },
      "source": [
        "https://colab.research.google.com/notebooks/welcome.ipynb?hl=ja"
      ]
    },
    {
      "cell_type": "markdown",
      "metadata": {
        "id": "AXi1nxMEO_QO"
      },
      "source": [
        "# **四則演算**\n",
        "\n",
        "条件式\n",
        "- +：足し算\n",
        "- -：引き算\n",
        "- *：掛け算\n",
        "- /：割り算\n",
        "- %：割り算の余りを求める\n",
        "- **：べき乗\n"
      ]
    },
    {
      "cell_type": "markdown",
      "metadata": {
        "id": "gmcoWDNB3wld"
      },
      "source": [
        "**スカラー（数値）**"
      ]
    },
    {
      "cell_type": "code",
      "execution_count": null,
      "metadata": {
        "colab": {
          "base_uri": "https://localhost:8080/"
        },
        "id": "8JlfKnmT3i5r",
        "outputId": "80159935-2a73-43ad-8c22-a68e85bc55bf"
      },
      "outputs": [
        {
          "data": {
            "text/plain": [
              "10"
            ]
          },
          "execution_count": 1,
          "metadata": {},
          "output_type": "execute_result"
        }
      ],
      "source": [
        "10"
      ]
    },
    {
      "cell_type": "code",
      "execution_count": null,
      "metadata": {
        "colab": {
          "base_uri": "https://localhost:8080/"
        },
        "id": "tTbrKQmx31Pl",
        "outputId": "f9d3d1c2-00e8-4fd1-ac83-63218915c53f"
      },
      "outputs": [
        {
          "data": {
            "text/plain": [
              "3628800"
            ]
          },
          "execution_count": 12,
          "metadata": {},
          "output_type": "execute_result"
        }
      ],
      "source": [
        "1*2*3*4*5*6*7*8*9*10"
      ]
    },
    {
      "cell_type": "code",
      "execution_count": null,
      "metadata": {
        "colab": {
          "base_uri": "https://localhost:8080/"
        },
        "id": "4AjNKNkGr33P",
        "outputId": "ae170301-bd5b-4292-8c95-fda752e978ce"
      },
      "outputs": [
        {
          "data": {
            "text/plain": [
              "10"
            ]
          },
          "execution_count": 15,
          "metadata": {},
          "output_type": "execute_result"
        }
      ],
      "source": [
        "1+2+3+4"
      ]
    },
    {
      "cell_type": "markdown",
      "metadata": {
        "id": "aQJ4vYen36H7"
      },
      "source": [
        "**ベクトル**"
      ]
    },
    {
      "cell_type": "code",
      "execution_count": null,
      "metadata": {
        "colab": {
          "base_uri": "https://localhost:8080/"
        },
        "id": "K8uumiLk3PIS",
        "outputId": "d3880626-38a7-439d-ca2a-e001f213b5f3"
      },
      "outputs": [
        {
          "data": {
            "text/plain": [
              "[1, 2, 3, 4]"
            ]
          },
          "execution_count": 16,
          "metadata": {},
          "output_type": "execute_result"
        }
      ],
      "source": [
        "[1,2,3,4]"
      ]
    },
    {
      "cell_type": "markdown",
      "metadata": {
        "id": "b29D3A7g39-L"
      },
      "source": [
        "**ベクトル演算**"
      ]
    },
    {
      "cell_type": "code",
      "execution_count": null,
      "metadata": {
        "colab": {
          "base_uri": "https://localhost:8080/"
        },
        "id": "qUln2WUN3d8d",
        "outputId": "0f466fcb-5b7f-4c69-cced-4d02c2031973"
      },
      "outputs": [
        {
          "data": {
            "text/plain": [
              "10"
            ]
          },
          "execution_count": 17,
          "metadata": {},
          "output_type": "execute_result"
        }
      ],
      "source": [
        "sum([1,2,3,4])"
      ]
    },
    {
      "cell_type": "markdown",
      "metadata": {
        "id": "38QjZqIwYJJF"
      },
      "source": [
        "# **描画**"
      ]
    },
    {
      "cell_type": "code",
      "execution_count": 1,
      "metadata": {
        "colab": {
          "base_uri": "https://localhost:8080/"
        },
        "id": "6UawVu52t1JM",
        "outputId": "a0f375a5-af9d-4461-efd9-724efc7d39b7"
      },
      "outputs": [
        {
          "output_type": "stream",
          "name": "stdout",
          "text": [
            "Collecting ColabTurtle\n",
            "  Downloading ColabTurtle-2.1.0.tar.gz (6.8 kB)\n",
            "  Preparing metadata (setup.py) ... \u001b[?25l\u001b[?25hdone\n",
            "Building wheels for collected packages: ColabTurtle\n",
            "  Building wheel for ColabTurtle (setup.py) ... \u001b[?25l\u001b[?25hdone\n",
            "  Created wheel for ColabTurtle: filename=ColabTurtle-2.1.0-py3-none-any.whl size=7642 sha256=96eb61c285aa185d3dafd2ee7acbe92ad1fa992865d40ba550f559791997c00b\n",
            "  Stored in directory: /root/.cache/pip/wheels/5b/86/e8/54f5c8c853606e3a3060bb2e60363cbed632374a12e0f33ffc\n",
            "Successfully built ColabTurtle\n",
            "Installing collected packages: ColabTurtle\n",
            "Successfully installed ColabTurtle-2.1.0\n"
          ]
        }
      ],
      "source": [
        "!pip3 install ColabTurtle\n",
        "from ColabTurtle.Turtle import *"
      ]
    },
    {
      "cell_type": "code",
      "execution_count": 2,
      "metadata": {
        "colab": {
          "base_uri": "https://localhost:8080/",
          "height": 520
        },
        "id": "tJVkt4suvzGU",
        "outputId": "ae945bbd-23a4-46cd-bae4-e97cd6e44241"
      },
      "outputs": [
        {
          "output_type": "display_data",
          "data": {
            "text/plain": [
              "<IPython.core.display.HTML object>"
            ],
            "text/html": [
              "\n",
              "      <svg width=\"800\" height=\"500\">\n",
              "        <rect width=\"100%\" height=\"100%\" fill=\"white\"/>\n",
              "        <line x1=\"400\" y1=\"250\" x2=\"338.197\" y2=\"59.789\" stroke-linecap=\"round\" style=\"stroke:red;stroke-width:3\"/><line x1=\"338.197\" y1=\"59.789\" x2=\"276.394\" y2=\"250.0\" stroke-linecap=\"round\" style=\"stroke:red;stroke-width:3\"/><line x1=\"276.394\" y1=\"250.0\" x2=\"438.197\" y2=\"132.443\" stroke-linecap=\"round\" style=\"stroke:red;stroke-width:3\"/><line x1=\"438.197\" y1=\"132.443\" x2=\"238.197\" y2=\"132.443\" stroke-linecap=\"round\" style=\"stroke:red;stroke-width:3\"/><line x1=\"238.197\" y1=\"132.443\" x2=\"400.0\" y2=\"250.0\" stroke-linecap=\"round\" style=\"stroke:red;stroke-width:3\"/>\n",
              "        <g visibility=visible transform=\"rotate(126,400.0,250.0) translate(382.0, 232.0)\">\n",
              "<path style=\" stroke:none;fill-rule:evenodd;fill:red;fill-opacity:1;\" d=\"M 18.214844 0.632812 C 16.109375 1.800781 15.011719 4.074219 15.074219 7.132812 L 15.085938 7.652344 L 14.785156 7.496094 C 13.476562 6.824219 11.957031 6.671875 10.40625 7.066406 C 8.46875 7.550781 6.515625 9.15625 4.394531 11.992188 C 3.0625 13.777344 2.679688 14.636719 3.042969 15.027344 L 3.15625 15.152344 L 3.519531 15.152344 C 4.238281 15.152344 4.828125 14.886719 8.1875 13.039062 C 9.386719 12.378906 10.371094 11.839844 10.378906 11.839844 C 10.386719 11.839844 10.355469 11.929688 10.304688 12.035156 C 9.832031 13.09375 9.257812 14.820312 8.96875 16.078125 C 7.914062 20.652344 8.617188 24.53125 11.070312 27.660156 C 11.351562 28.015625 11.363281 27.914062 10.972656 28.382812 C 8.925781 30.84375 7.945312 33.28125 8.238281 35.1875 C 8.289062 35.527344 8.28125 35.523438 8.917969 35.523438 C 10.941406 35.523438 13.074219 34.207031 15.136719 31.6875 C 15.359375 31.417969 15.328125 31.425781 15.5625 31.574219 C 16.292969 32.042969 18.023438 32.964844 18.175781 32.964844 C 18.335938 32.964844 19.941406 32.210938 20.828125 31.71875 C 20.996094 31.625 21.136719 31.554688 21.136719 31.558594 C 21.203125 31.664062 21.898438 32.414062 22.222656 32.730469 C 23.835938 34.300781 25.5625 35.132812 27.582031 35.300781 C 27.90625 35.328125 27.9375 35.308594 28.007812 34.984375 C 28.382812 33.242188 27.625 30.925781 25.863281 28.425781 L 25.542969 27.96875 L 25.699219 27.785156 C 28.945312 23.960938 29.132812 18.699219 26.257812 11.96875 L 26.207031 11.84375 L 27.945312 12.703125 C 31.53125 14.476562 32.316406 14.800781 33.03125 14.800781 C 33.976562 14.800781 33.78125 13.9375 32.472656 12.292969 C 28.519531 7.355469 25.394531 5.925781 21.921875 7.472656 L 21.558594 7.636719 L 21.578125 7.542969 C 21.699219 6.992188 21.761719 5.742188 21.699219 5.164062 C 21.496094 3.296875 20.664062 1.964844 19.003906 0.855469 C 18.480469 0.503906 18.457031 0.5 18.214844 0.632812\"/>\n",
              "</g>\n",
              "      </svg>\n",
              "    "
            ]
          },
          "metadata": {}
        }
      ],
      "source": [
        "initializeTurtle()    # 描画エリアの初期化\n",
        "color('red')\n",
        "bgcolor('white')\n",
        "width(3)\n",
        "right(126)            # 左に126度回転\n",
        "for i in range(5):    # 5回繰り返す\n",
        "    left(144)         # 左に144度回転\n",
        "    forward(200)      # 200進む"
      ]
    },
    {
      "cell_type": "code",
      "execution_count": 8,
      "metadata": {
        "colab": {
          "base_uri": "https://localhost:8080/",
          "height": 520
        },
        "id": "e8cFqOr8YXO0",
        "outputId": "201f4cf5-fd8b-4418-9acf-bd999d3b5d2a"
      },
      "outputs": [
        {
          "output_type": "display_data",
          "data": {
            "text/plain": [
              "<IPython.core.display.HTML object>"
            ],
            "text/html": [
              "\n",
              "      <svg width=\"800\" height=\"500\">\n",
              "        <rect width=\"100%\" height=\"100%\" fill=\"black\"/>\n",
              "        <line x1=\"400\" y1=\"250\" x2=\"300.0\" y2=\"76.795\" stroke-linecap=\"round\" style=\"stroke:white;stroke-width:4\"/><line x1=\"300.0\" y1=\"76.795\" x2=\"500.0\" y2=\"76.795\" stroke-linecap=\"round\" style=\"stroke:white;stroke-width:4\"/><line x1=\"500.0\" y1=\"76.795\" x2=\"400.0\" y2=\"250.0\" stroke-linecap=\"round\" style=\"stroke:white;stroke-width:4\"/>\n",
              "        <g visibility=visible transform=\"rotate(210,400.0,250.0) translate(382.0, 232.0)\">\n",
              "<path style=\" stroke:none;fill-rule:evenodd;fill:white;fill-opacity:1;\" d=\"M 18.214844 0.632812 C 16.109375 1.800781 15.011719 4.074219 15.074219 7.132812 L 15.085938 7.652344 L 14.785156 7.496094 C 13.476562 6.824219 11.957031 6.671875 10.40625 7.066406 C 8.46875 7.550781 6.515625 9.15625 4.394531 11.992188 C 3.0625 13.777344 2.679688 14.636719 3.042969 15.027344 L 3.15625 15.152344 L 3.519531 15.152344 C 4.238281 15.152344 4.828125 14.886719 8.1875 13.039062 C 9.386719 12.378906 10.371094 11.839844 10.378906 11.839844 C 10.386719 11.839844 10.355469 11.929688 10.304688 12.035156 C 9.832031 13.09375 9.257812 14.820312 8.96875 16.078125 C 7.914062 20.652344 8.617188 24.53125 11.070312 27.660156 C 11.351562 28.015625 11.363281 27.914062 10.972656 28.382812 C 8.925781 30.84375 7.945312 33.28125 8.238281 35.1875 C 8.289062 35.527344 8.28125 35.523438 8.917969 35.523438 C 10.941406 35.523438 13.074219 34.207031 15.136719 31.6875 C 15.359375 31.417969 15.328125 31.425781 15.5625 31.574219 C 16.292969 32.042969 18.023438 32.964844 18.175781 32.964844 C 18.335938 32.964844 19.941406 32.210938 20.828125 31.71875 C 20.996094 31.625 21.136719 31.554688 21.136719 31.558594 C 21.203125 31.664062 21.898438 32.414062 22.222656 32.730469 C 23.835938 34.300781 25.5625 35.132812 27.582031 35.300781 C 27.90625 35.328125 27.9375 35.308594 28.007812 34.984375 C 28.382812 33.242188 27.625 30.925781 25.863281 28.425781 L 25.542969 27.96875 L 25.699219 27.785156 C 28.945312 23.960938 29.132812 18.699219 26.257812 11.96875 L 26.207031 11.84375 L 27.945312 12.703125 C 31.53125 14.476562 32.316406 14.800781 33.03125 14.800781 C 33.976562 14.800781 33.78125 13.9375 32.472656 12.292969 C 28.519531 7.355469 25.394531 5.925781 21.921875 7.472656 L 21.558594 7.636719 L 21.578125 7.542969 C 21.699219 6.992188 21.761719 5.742188 21.699219 5.164062 C 21.496094 3.296875 20.664062 1.964844 19.003906 0.855469 C 18.480469 0.503906 18.457031 0.5 18.214844 0.632812\"/>\n",
              "</g>\n",
              "      </svg>\n",
              "    "
            ]
          },
          "metadata": {}
        }
      ],
      "source": [
        "initializeTurtle()   # 描画エリアの初期化\n",
        "left(30)            # 左に120度回転\n",
        "forward(200)         # 200進む\n",
        "right(120)            # 左に120度回転\n",
        "forward(200)\n",
        "right(120)\n",
        "forward(200)\n",
        "\n",
        "#forward(200)         # 200進む\n",
        "#left(120)            # 左に120度回転\n",
        "#forward(200)\n",
        "##orward(200)"
      ]
    },
    {
      "cell_type": "code",
      "execution_count": null,
      "metadata": {
        "colab": {
          "base_uri": "https://localhost:8080/",
          "height": 521
        },
        "id": "bhsriFNKY7p2",
        "outputId": "cf2f1557-bedd-4744-c91a-b6ca3a1c8bbc"
      },
      "outputs": [
        {
          "data": {
            "text/html": [
              "\n",
              "      <svg width=\"800\" height=\"500\">\n",
              "        <rect width=\"100%\" height=\"100%\" fill=\"white\"/>\n",
              "        <line x1=\"400\" y1=\"250\" x2=\"400.0\" y2=\"50.0\" stroke-linecap=\"round\" style=\"stroke:orange;stroke-width:1\"/><line x1=\"400.0\" y1=\"50.0\" x2=\"313.397\" y2=\"100.0\" stroke-linecap=\"round\" style=\"stroke:orange;stroke-width:1\"/><line x1=\"313.397\" y1=\"100.0\" x2=\"486.602\" y2=\"200.0\" stroke-linecap=\"round\" style=\"stroke:orange;stroke-width:1\"/>\n",
              "        <g visibility=visible transform=\"rotate(120,486.602,200.0) translate(468.602, 182.0)\">\n",
              "<path style=\" stroke:none;fill-rule:evenodd;fill:orange;fill-opacity:1;\" d=\"M 18.214844 0.632812 C 16.109375 1.800781 15.011719 4.074219 15.074219 7.132812 L 15.085938 7.652344 L 14.785156 7.496094 C 13.476562 6.824219 11.957031 6.671875 10.40625 7.066406 C 8.46875 7.550781 6.515625 9.15625 4.394531 11.992188 C 3.0625 13.777344 2.679688 14.636719 3.042969 15.027344 L 3.15625 15.152344 L 3.519531 15.152344 C 4.238281 15.152344 4.828125 14.886719 8.1875 13.039062 C 9.386719 12.378906 10.371094 11.839844 10.378906 11.839844 C 10.386719 11.839844 10.355469 11.929688 10.304688 12.035156 C 9.832031 13.09375 9.257812 14.820312 8.96875 16.078125 C 7.914062 20.652344 8.617188 24.53125 11.070312 27.660156 C 11.351562 28.015625 11.363281 27.914062 10.972656 28.382812 C 8.925781 30.84375 7.945312 33.28125 8.238281 35.1875 C 8.289062 35.527344 8.28125 35.523438 8.917969 35.523438 C 10.941406 35.523438 13.074219 34.207031 15.136719 31.6875 C 15.359375 31.417969 15.328125 31.425781 15.5625 31.574219 C 16.292969 32.042969 18.023438 32.964844 18.175781 32.964844 C 18.335938 32.964844 19.941406 32.210938 20.828125 31.71875 C 20.996094 31.625 21.136719 31.554688 21.136719 31.558594 C 21.203125 31.664062 21.898438 32.414062 22.222656 32.730469 C 23.835938 34.300781 25.5625 35.132812 27.582031 35.300781 C 27.90625 35.328125 27.9375 35.308594 28.007812 34.984375 C 28.382812 33.242188 27.625 30.925781 25.863281 28.425781 L 25.542969 27.96875 L 25.699219 27.785156 C 28.945312 23.960938 29.132812 18.699219 26.257812 11.96875 L 26.207031 11.84375 L 27.945312 12.703125 C 31.53125 14.476562 32.316406 14.800781 33.03125 14.800781 C 33.976562 14.800781 33.78125 13.9375 32.472656 12.292969 C 28.519531 7.355469 25.394531 5.925781 21.921875 7.472656 L 21.558594 7.636719 L 21.578125 7.542969 C 21.699219 6.992188 21.761719 5.742188 21.699219 5.164062 C 21.496094 3.296875 20.664062 1.964844 19.003906 0.855469 C 18.480469 0.503906 18.457031 0.5 18.214844 0.632812\"/>\n",
              "</g>\n",
              "      </svg>\n",
              "    "
            ],
            "text/plain": [
              "<IPython.core.display.HTML object>"
            ]
          },
          "metadata": {},
          "output_type": "display_data"
        }
      ],
      "source": [
        "initializeTurtle()   # 描画エリアの初期化\n",
        "color('orange')\n",
        "bgcolor('white')\n",
        "width(1)\n",
        "forward(200)         # 200進む\n",
        "left(120)            # 左に120度回転\n",
        "forward(100)         # 100進む\n",
        "right(240)           # 左に120度回転\n",
        "forward(200)\n",
        "#よみませんこれ\n",
        "\n"
      ]
    },
    {
      "cell_type": "code",
      "execution_count": 25,
      "metadata": {
        "colab": {
          "base_uri": "https://localhost:8080/",
          "height": 520
        },
        "id": "3L6Wa3RryQ-m",
        "outputId": "ba636670-9f8a-4e56-f69a-e3a74af75486"
      },
      "outputs": [
        {
          "output_type": "display_data",
          "data": {
            "text/plain": [
              "<IPython.core.display.HTML object>"
            ],
            "text/html": [
              "\n",
              "      <svg width=\"800\" height=\"500\">\n",
              "        <rect width=\"100%\" height=\"100%\" fill=\"black\"/>\n",
              "        <line x1=\"400\" y1=\"250\" x2=\"200.0\" y2=\"250.0\" stroke-linecap=\"round\" style=\"stroke:orange;stroke-width:3\"/><line x1=\"200.0\" y1=\"250.0\" x2=\"300.0\" y2=\"76.795\" stroke-linecap=\"round\" style=\"stroke:orange;stroke-width:3\"/><line x1=\"300.0\" y1=\"76.795\" x2=\"400.0\" y2=\"250.0\" stroke-linecap=\"round\" style=\"stroke:orange;stroke-width:3\"/>\n",
              "        <g visibility=visible transform=\"rotate(270,400.0,250.0) translate(382.0, 232.0)\">\n",
              "<path style=\" stroke:none;fill-rule:evenodd;fill:orange;fill-opacity:1;\" d=\"M 18.214844 0.632812 C 16.109375 1.800781 15.011719 4.074219 15.074219 7.132812 L 15.085938 7.652344 L 14.785156 7.496094 C 13.476562 6.824219 11.957031 6.671875 10.40625 7.066406 C 8.46875 7.550781 6.515625 9.15625 4.394531 11.992188 C 3.0625 13.777344 2.679688 14.636719 3.042969 15.027344 L 3.15625 15.152344 L 3.519531 15.152344 C 4.238281 15.152344 4.828125 14.886719 8.1875 13.039062 C 9.386719 12.378906 10.371094 11.839844 10.378906 11.839844 C 10.386719 11.839844 10.355469 11.929688 10.304688 12.035156 C 9.832031 13.09375 9.257812 14.820312 8.96875 16.078125 C 7.914062 20.652344 8.617188 24.53125 11.070312 27.660156 C 11.351562 28.015625 11.363281 27.914062 10.972656 28.382812 C 8.925781 30.84375 7.945312 33.28125 8.238281 35.1875 C 8.289062 35.527344 8.28125 35.523438 8.917969 35.523438 C 10.941406 35.523438 13.074219 34.207031 15.136719 31.6875 C 15.359375 31.417969 15.328125 31.425781 15.5625 31.574219 C 16.292969 32.042969 18.023438 32.964844 18.175781 32.964844 C 18.335938 32.964844 19.941406 32.210938 20.828125 31.71875 C 20.996094 31.625 21.136719 31.554688 21.136719 31.558594 C 21.203125 31.664062 21.898438 32.414062 22.222656 32.730469 C 23.835938 34.300781 25.5625 35.132812 27.582031 35.300781 C 27.90625 35.328125 27.9375 35.308594 28.007812 34.984375 C 28.382812 33.242188 27.625 30.925781 25.863281 28.425781 L 25.542969 27.96875 L 25.699219 27.785156 C 28.945312 23.960938 29.132812 18.699219 26.257812 11.96875 L 26.207031 11.84375 L 27.945312 12.703125 C 31.53125 14.476562 32.316406 14.800781 33.03125 14.800781 C 33.976562 14.800781 33.78125 13.9375 32.472656 12.292969 C 28.519531 7.355469 25.394531 5.925781 21.921875 7.472656 L 21.558594 7.636719 L 21.578125 7.542969 C 21.699219 6.992188 21.761719 5.742188 21.699219 5.164062 C 21.496094 3.296875 20.664062 1.964844 19.003906 0.855469 C 18.480469 0.503906 18.457031 0.5 18.214844 0.632812\"/>\n",
              "</g>\n",
              "      </svg>\n",
              "    "
            ]
          },
          "metadata": {}
        }
      ],
      "source": [
        "initializeTurtle()    # 描画エリアの初期化\n",
        "color('orange')\n",
        "bgcolor('black')\n",
        "width(3)\n",
        "left(90)           # 左に120度回転\n",
        "for i in range(3):\n",
        "  forward(200)    # 200進む\n",
        "  right(120)       # 左に120度回転\n"
      ]
    },
    {
      "cell_type": "code",
      "execution_count": null,
      "metadata": {
        "colab": {
          "base_uri": "https://localhost:8080/",
          "height": 520
        },
        "id": "WbUTK2gPkyyf",
        "outputId": "39835836-c7f4-4f20-fd1e-863761af3e85"
      },
      "outputs": [
        {
          "data": {
            "text/html": [
              "\n",
              "      <svg width=\"800\" height=\"500\">\n",
              "        <rect width=\"100%\" height=\"100%\" fill=\"white\"/>\n",
              "        <line x1=\"400\" y1=\"250\" x2=\"400.0\" y2=\"150.0\" stroke-linecap=\"round\" style=\"stroke:orange;stroke-width:5\"/><line x1=\"400.0\" y1=\"150.0\" x2=\"313.397\" y2=\"100.0\" stroke-linecap=\"round\" style=\"stroke:orange;stroke-width:5\"/><line x1=\"313.397\" y1=\"100.0\" x2=\"226.794\" y2=\"150.0\" stroke-linecap=\"round\" style=\"stroke:orange;stroke-width:5\"/><line x1=\"226.794\" y1=\"150.0\" x2=\"226.794\" y2=\"250.0\" stroke-linecap=\"round\" style=\"stroke:orange;stroke-width:5\"/><line x1=\"226.794\" y1=\"250.0\" x2=\"313.397\" y2=\"300.0\" stroke-linecap=\"round\" style=\"stroke:orange;stroke-width:5\"/><line x1=\"313.397\" y1=\"300.0\" x2=\"400.0\" y2=\"250.0\" stroke-linecap=\"round\" style=\"stroke:orange;stroke-width:5\"/>\n",
              "        <g visibility=visible transform=\"rotate(360,400.0,250.0) translate(382.0, 232.0)\">\n",
              "<path style=\" stroke:none;fill-rule:evenodd;fill:orange;fill-opacity:1;\" d=\"M 18.214844 0.632812 C 16.109375 1.800781 15.011719 4.074219 15.074219 7.132812 L 15.085938 7.652344 L 14.785156 7.496094 C 13.476562 6.824219 11.957031 6.671875 10.40625 7.066406 C 8.46875 7.550781 6.515625 9.15625 4.394531 11.992188 C 3.0625 13.777344 2.679688 14.636719 3.042969 15.027344 L 3.15625 15.152344 L 3.519531 15.152344 C 4.238281 15.152344 4.828125 14.886719 8.1875 13.039062 C 9.386719 12.378906 10.371094 11.839844 10.378906 11.839844 C 10.386719 11.839844 10.355469 11.929688 10.304688 12.035156 C 9.832031 13.09375 9.257812 14.820312 8.96875 16.078125 C 7.914062 20.652344 8.617188 24.53125 11.070312 27.660156 C 11.351562 28.015625 11.363281 27.914062 10.972656 28.382812 C 8.925781 30.84375 7.945312 33.28125 8.238281 35.1875 C 8.289062 35.527344 8.28125 35.523438 8.917969 35.523438 C 10.941406 35.523438 13.074219 34.207031 15.136719 31.6875 C 15.359375 31.417969 15.328125 31.425781 15.5625 31.574219 C 16.292969 32.042969 18.023438 32.964844 18.175781 32.964844 C 18.335938 32.964844 19.941406 32.210938 20.828125 31.71875 C 20.996094 31.625 21.136719 31.554688 21.136719 31.558594 C 21.203125 31.664062 21.898438 32.414062 22.222656 32.730469 C 23.835938 34.300781 25.5625 35.132812 27.582031 35.300781 C 27.90625 35.328125 27.9375 35.308594 28.007812 34.984375 C 28.382812 33.242188 27.625 30.925781 25.863281 28.425781 L 25.542969 27.96875 L 25.699219 27.785156 C 28.945312 23.960938 29.132812 18.699219 26.257812 11.96875 L 26.207031 11.84375 L 27.945312 12.703125 C 31.53125 14.476562 32.316406 14.800781 33.03125 14.800781 C 33.976562 14.800781 33.78125 13.9375 32.472656 12.292969 C 28.519531 7.355469 25.394531 5.925781 21.921875 7.472656 L 21.558594 7.636719 L 21.578125 7.542969 C 21.699219 6.992188 21.761719 5.742188 21.699219 5.164062 C 21.496094 3.296875 20.664062 1.964844 19.003906 0.855469 C 18.480469 0.503906 18.457031 0.5 18.214844 0.632812\"/>\n",
              "</g>\n",
              "      </svg>\n",
              "    "
            ],
            "text/plain": [
              "<IPython.core.display.HTML object>"
            ]
          },
          "metadata": {},
          "output_type": "display_data"
        }
      ],
      "source": [
        "initializeTurtle(initial_speed=5)\n",
        "color('orange')\n",
        "bgcolor('white')\n",
        "width(5)\n",
        "for cnt in range(6):\n",
        "    forward(100)\n",
        "    left(60)"
      ]
    },
    {
      "cell_type": "code",
      "execution_count": null,
      "metadata": {
        "colab": {
          "base_uri": "https://localhost:8080/",
          "height": 520
        },
        "id": "wOB9yrRbhdh-",
        "outputId": "99efd351-7613-49f2-cbfe-00871d43faed"
      },
      "outputs": [
        {
          "data": {
            "text/html": [
              "\n",
              "      <svg width=\"800\" height=\"500\">\n",
              "        <rect width=\"100%\" height=\"100%\" fill=\"white\"/>\n",
              "        <line x1=\"400\" y1=\"250\" x2=\"338.197\" y2=\"59.789\" stroke-linecap=\"round\" style=\"stroke:red;stroke-width:3\"/><line x1=\"338.197\" y1=\"59.789\" x2=\"276.394\" y2=\"250.0\" stroke-linecap=\"round\" style=\"stroke:red;stroke-width:3\"/><line x1=\"276.394\" y1=\"250.0\" x2=\"438.197\" y2=\"132.443\" stroke-linecap=\"round\" style=\"stroke:red;stroke-width:3\"/><line x1=\"438.197\" y1=\"132.443\" x2=\"238.197\" y2=\"132.443\" stroke-linecap=\"round\" style=\"stroke:red;stroke-width:3\"/><line x1=\"238.197\" y1=\"132.443\" x2=\"400.0\" y2=\"250.0\" stroke-linecap=\"round\" style=\"stroke:red;stroke-width:3\"/>\n",
              "        <g visibility=visible transform=\"rotate(126,400.0,250.0) translate(382.0, 232.0)\">\n",
              "<path style=\" stroke:none;fill-rule:evenodd;fill:red;fill-opacity:1;\" d=\"M 18.214844 0.632812 C 16.109375 1.800781 15.011719 4.074219 15.074219 7.132812 L 15.085938 7.652344 L 14.785156 7.496094 C 13.476562 6.824219 11.957031 6.671875 10.40625 7.066406 C 8.46875 7.550781 6.515625 9.15625 4.394531 11.992188 C 3.0625 13.777344 2.679688 14.636719 3.042969 15.027344 L 3.15625 15.152344 L 3.519531 15.152344 C 4.238281 15.152344 4.828125 14.886719 8.1875 13.039062 C 9.386719 12.378906 10.371094 11.839844 10.378906 11.839844 C 10.386719 11.839844 10.355469 11.929688 10.304688 12.035156 C 9.832031 13.09375 9.257812 14.820312 8.96875 16.078125 C 7.914062 20.652344 8.617188 24.53125 11.070312 27.660156 C 11.351562 28.015625 11.363281 27.914062 10.972656 28.382812 C 8.925781 30.84375 7.945312 33.28125 8.238281 35.1875 C 8.289062 35.527344 8.28125 35.523438 8.917969 35.523438 C 10.941406 35.523438 13.074219 34.207031 15.136719 31.6875 C 15.359375 31.417969 15.328125 31.425781 15.5625 31.574219 C 16.292969 32.042969 18.023438 32.964844 18.175781 32.964844 C 18.335938 32.964844 19.941406 32.210938 20.828125 31.71875 C 20.996094 31.625 21.136719 31.554688 21.136719 31.558594 C 21.203125 31.664062 21.898438 32.414062 22.222656 32.730469 C 23.835938 34.300781 25.5625 35.132812 27.582031 35.300781 C 27.90625 35.328125 27.9375 35.308594 28.007812 34.984375 C 28.382812 33.242188 27.625 30.925781 25.863281 28.425781 L 25.542969 27.96875 L 25.699219 27.785156 C 28.945312 23.960938 29.132812 18.699219 26.257812 11.96875 L 26.207031 11.84375 L 27.945312 12.703125 C 31.53125 14.476562 32.316406 14.800781 33.03125 14.800781 C 33.976562 14.800781 33.78125 13.9375 32.472656 12.292969 C 28.519531 7.355469 25.394531 5.925781 21.921875 7.472656 L 21.558594 7.636719 L 21.578125 7.542969 C 21.699219 6.992188 21.761719 5.742188 21.699219 5.164062 C 21.496094 3.296875 20.664062 1.964844 19.003906 0.855469 C 18.480469 0.503906 18.457031 0.5 18.214844 0.632812\"/>\n",
              "</g>\n",
              "      </svg>\n",
              "    "
            ],
            "text/plain": [
              "<IPython.core.display.HTML object>"
            ]
          },
          "metadata": {},
          "output_type": "display_data"
        }
      ],
      "source": [
        "initializeTurtle()    # 描画エリアの初期化\n",
        "color('red')\n",
        "bgcolor('white')\n",
        "width(3)\n",
        "right(126)            # 左に126度回転\n",
        "for i in range(5):    # 5回繰り返す\n",
        "    left(144)         # 左に144度回転\n",
        "    forward(200)      # 200進む"
      ]
    },
    {
      "cell_type": "code",
      "execution_count": 36,
      "metadata": {
        "colab": {
          "base_uri": "https://localhost:8080/",
          "height": 520
        },
        "id": "7lt3Y7Yri8Ej",
        "outputId": "88e125f6-6cf1-4c7b-d5ae-ce06c5ecbb84"
      },
      "outputs": [
        {
          "output_type": "display_data",
          "data": {
            "text/plain": [
              "<IPython.core.display.HTML object>"
            ],
            "text/html": [
              "\n",
              "      <svg width=\"800\" height=\"500\">\n",
              "        <rect width=\"100%\" height=\"100%\" fill=\"white\"/>\n",
              "        <line x1=\"400\" y1=\"250\" x2=\"400.0\" y2=\"50.0\" stroke-linecap=\"round\" style=\"stroke:orange;stroke-width:1\"/><line x1=\"400.0\" y1=\"50.0\" x2=\"372.165\" y2=\"248.054\" stroke-linecap=\"round\" style=\"stroke:orange;stroke-width:1\"/><line x1=\"372.165\" y1=\"248.054\" x2=\"427.292\" y2=\"55.802\" stroke-linecap=\"round\" style=\"stroke:orange;stroke-width:1\"/><line x1=\"427.292\" y1=\"55.802\" x2=\"345.945\" y2=\"238.511\" stroke-linecap=\"round\" style=\"stroke:orange;stroke-width:1\"/><line x1=\"345.945\" y1=\"238.511\" x2=\"451.929\" y2=\"68.901\" stroke-linecap=\"round\" style=\"stroke:orange;stroke-width:1\"/><line x1=\"451.929\" y1=\"68.901\" x2=\"323.371\" y2=\"222.11\" stroke-linecap=\"round\" style=\"stroke:orange;stroke-width:1\"/><line x1=\"323.371\" y1=\"222.11\" x2=\"472.0\" y2=\"88.284\" stroke-linecap=\"round\" style=\"stroke:orange;stroke-width:1\"/><line x1=\"472.0\" y1=\"88.284\" x2=\"306.192\" y2=\"200.123\" stroke-linecap=\"round\" style=\"stroke:orange;stroke-width:1\"/><line x1=\"306.192\" y1=\"200.123\" x2=\"485.951\" y2=\"112.449\" stroke-linecap=\"round\" style=\"stroke:orange;stroke-width:1\"/><line x1=\"485.951\" y1=\"112.449\" x2=\"295.74\" y2=\"174.252\" stroke-linecap=\"round\" style=\"stroke:orange;stroke-width:1\"/><line x1=\"295.74\" y1=\"174.252\" x2=\"492.702\" y2=\"139.522\" stroke-linecap=\"round\" style=\"stroke:orange;stroke-width:1\"/><line x1=\"492.702\" y1=\"139.522\" x2=\"292.824\" y2=\"146.502\" stroke-linecap=\"round\" style=\"stroke:orange;stroke-width:1\"/><line x1=\"292.824\" y1=\"146.502\" x2=\"491.728\" y2=\"167.408\" stroke-linecap=\"round\" style=\"stroke:orange;stroke-width:1\"/><line x1=\"491.728\" y1=\"167.408\" x2=\"297.669\" y2=\"119.024\" stroke-linecap=\"round\" style=\"stroke:orange;stroke-width:1\"/><line x1=\"297.669\" y1=\"119.024\" x2=\"483.106\" y2=\"193.945\" stroke-linecap=\"round\" style=\"stroke:orange;stroke-width:1\"/><line x1=\"483.106\" y1=\"193.945\" x2=\"309.901\" y2=\"93.945\" stroke-linecap=\"round\" style=\"stroke:orange;stroke-width:1\"/><line x1=\"309.901\" y1=\"93.945\" x2=\"467.503\" y2=\"217.077\" stroke-linecap=\"round\" style=\"stroke:orange;stroke-width:1\"/><line x1=\"467.503\" y1=\"217.077\" x2=\"328.571\" y2=\"73.209\" stroke-linecap=\"round\" style=\"stroke:orange;stroke-width:1\"/><line x1=\"328.571\" y1=\"73.209\" x2=\"446.128\" y2=\"235.012\" stroke-linecap=\"round\" style=\"stroke:orange;stroke-width:1\"/><line x1=\"446.128\" y1=\"235.012\" x2=\"352.234\" y2=\"58.422\" stroke-linecap=\"round\" style=\"stroke:orange;stroke-width:1\"/><line x1=\"352.234\" y1=\"58.422\" x2=\"420.638\" y2=\"246.361\" stroke-linecap=\"round\" style=\"stroke:orange;stroke-width:1\"/><line x1=\"420.638\" y1=\"246.361\" x2=\"379.056\" y2=\"50.731\" stroke-linecap=\"round\" style=\"stroke:orange;stroke-width:1\"/><line x1=\"379.056\" y1=\"50.731\" x2=\"393.007\" y2=\"250.244\" stroke-linecap=\"round\" style=\"stroke:orange;stroke-width:1\"/><line x1=\"393.007\" y1=\"250.244\" x2=\"406.958\" y2=\"50.731\" stroke-linecap=\"round\" style=\"stroke:orange;stroke-width:1\"/><line x1=\"406.958\" y1=\"50.731\" x2=\"365.376\" y2=\"246.361\" stroke-linecap=\"round\" style=\"stroke:orange;stroke-width:1\"/><line x1=\"365.376\" y1=\"246.361\" x2=\"433.78\" y2=\"58.422\" stroke-linecap=\"round\" style=\"stroke:orange;stroke-width:1\"/><line x1=\"433.78\" y1=\"58.422\" x2=\"339.886\" y2=\"235.012\" stroke-linecap=\"round\" style=\"stroke:orange;stroke-width:1\"/><line x1=\"339.886\" y1=\"235.012\" x2=\"457.443\" y2=\"73.209\" stroke-linecap=\"round\" style=\"stroke:orange;stroke-width:1\"/><line x1=\"457.443\" y1=\"73.209\" x2=\"318.511\" y2=\"217.077\" stroke-linecap=\"round\" style=\"stroke:orange;stroke-width:1\"/><line x1=\"318.511\" y1=\"217.077\" x2=\"476.113\" y2=\"93.945\" stroke-linecap=\"round\" style=\"stroke:orange;stroke-width:1\"/><line x1=\"476.113\" y1=\"93.945\" x2=\"302.908\" y2=\"193.945\" stroke-linecap=\"round\" style=\"stroke:orange;stroke-width:1\"/><line x1=\"302.908\" y1=\"193.945\" x2=\"488.345\" y2=\"119.024\" stroke-linecap=\"round\" style=\"stroke:orange;stroke-width:1\"/><line x1=\"488.345\" y1=\"119.024\" x2=\"294.286\" y2=\"167.408\" stroke-linecap=\"round\" style=\"stroke:orange;stroke-width:1\"/><line x1=\"294.286\" y1=\"167.408\" x2=\"493.19\" y2=\"146.502\" stroke-linecap=\"round\" style=\"stroke:orange;stroke-width:1\"/><line x1=\"493.19\" y1=\"146.502\" x2=\"293.312\" y2=\"139.522\" stroke-linecap=\"round\" style=\"stroke:orange;stroke-width:1\"/><line x1=\"293.312\" y1=\"139.522\" x2=\"490.274\" y2=\"174.252\" stroke-linecap=\"round\" style=\"stroke:orange;stroke-width:1\"/><line x1=\"490.274\" y1=\"174.252\" x2=\"300.063\" y2=\"112.449\" stroke-linecap=\"round\" style=\"stroke:orange;stroke-width:1\"/><line x1=\"300.063\" y1=\"112.449\" x2=\"479.822\" y2=\"200.123\" stroke-linecap=\"round\" style=\"stroke:orange;stroke-width:1\"/><line x1=\"479.822\" y1=\"200.123\" x2=\"314.014\" y2=\"88.284\" stroke-linecap=\"round\" style=\"stroke:orange;stroke-width:1\"/><line x1=\"314.014\" y1=\"88.284\" x2=\"462.643\" y2=\"222.11\" stroke-linecap=\"round\" style=\"stroke:orange;stroke-width:1\"/><line x1=\"462.643\" y1=\"222.11\" x2=\"334.085\" y2=\"68.901\" stroke-linecap=\"round\" style=\"stroke:orange;stroke-width:1\"/><line x1=\"334.085\" y1=\"68.901\" x2=\"440.069\" y2=\"238.511\" stroke-linecap=\"round\" style=\"stroke:orange;stroke-width:1\"/><line x1=\"440.069\" y1=\"238.511\" x2=\"358.722\" y2=\"55.802\" stroke-linecap=\"round\" style=\"stroke:orange;stroke-width:1\"/><line x1=\"358.722\" y1=\"55.802\" x2=\"413.849\" y2=\"248.054\" stroke-linecap=\"round\" style=\"stroke:orange;stroke-width:1\"/><line x1=\"413.849\" y1=\"248.054\" x2=\"386.014\" y2=\"50.0\" stroke-linecap=\"round\" style=\"stroke:orange;stroke-width:1\"/><line x1=\"386.014\" y1=\"50.0\" x2=\"386.014\" y2=\"250.0\" stroke-linecap=\"round\" style=\"stroke:orange;stroke-width:1\"/><line x1=\"386.014\" y1=\"250.0\" x2=\"413.849\" y2=\"51.946\" stroke-linecap=\"round\" style=\"stroke:orange;stroke-width:1\"/><line x1=\"413.849\" y1=\"51.946\" x2=\"358.722\" y2=\"244.198\" stroke-linecap=\"round\" style=\"stroke:orange;stroke-width:1\"/><line x1=\"358.722\" y1=\"244.198\" x2=\"440.069\" y2=\"61.489\" stroke-linecap=\"round\" style=\"stroke:orange;stroke-width:1\"/><line x1=\"440.069\" y1=\"61.489\" x2=\"334.085\" y2=\"231.099\" stroke-linecap=\"round\" style=\"stroke:orange;stroke-width:1\"/><line x1=\"334.085\" y1=\"231.099\" x2=\"462.643\" y2=\"77.89\" stroke-linecap=\"round\" style=\"stroke:orange;stroke-width:1\"/><line x1=\"462.643\" y1=\"77.89\" x2=\"314.014\" y2=\"211.716\" stroke-linecap=\"round\" style=\"stroke:orange;stroke-width:1\"/><line x1=\"314.014\" y1=\"211.716\" x2=\"479.822\" y2=\"99.877\" stroke-linecap=\"round\" style=\"stroke:orange;stroke-width:1\"/><line x1=\"479.822\" y1=\"99.877\" x2=\"300.063\" y2=\"187.551\" stroke-linecap=\"round\" style=\"stroke:orange;stroke-width:1\"/><line x1=\"300.063\" y1=\"187.551\" x2=\"490.274\" y2=\"125.748\" stroke-linecap=\"round\" style=\"stroke:orange;stroke-width:1\"/><line x1=\"490.274\" y1=\"125.748\" x2=\"293.312\" y2=\"160.478\" stroke-linecap=\"round\" style=\"stroke:orange;stroke-width:1\"/><line x1=\"293.312\" y1=\"160.478\" x2=\"493.19\" y2=\"153.498\" stroke-linecap=\"round\" style=\"stroke:orange;stroke-width:1\"/><line x1=\"493.19\" y1=\"153.498\" x2=\"294.286\" y2=\"132.592\" stroke-linecap=\"round\" style=\"stroke:orange;stroke-width:1\"/><line x1=\"294.286\" y1=\"132.592\" x2=\"488.345\" y2=\"180.976\" stroke-linecap=\"round\" style=\"stroke:orange;stroke-width:1\"/><line x1=\"488.345\" y1=\"180.976\" x2=\"302.908\" y2=\"106.055\" stroke-linecap=\"round\" style=\"stroke:orange;stroke-width:1\"/><line x1=\"302.908\" y1=\"106.055\" x2=\"476.113\" y2=\"206.055\" stroke-linecap=\"round\" style=\"stroke:orange;stroke-width:1\"/><line x1=\"476.113\" y1=\"206.055\" x2=\"318.511\" y2=\"82.923\" stroke-linecap=\"round\" style=\"stroke:orange;stroke-width:1\"/><line x1=\"318.511\" y1=\"82.923\" x2=\"457.443\" y2=\"226.791\" stroke-linecap=\"round\" style=\"stroke:orange;stroke-width:1\"/><line x1=\"457.443\" y1=\"226.791\" x2=\"339.886\" y2=\"64.988\" stroke-linecap=\"round\" style=\"stroke:orange;stroke-width:1\"/><line x1=\"339.886\" y1=\"64.988\" x2=\"433.78\" y2=\"241.578\" stroke-linecap=\"round\" style=\"stroke:orange;stroke-width:1\"/><line x1=\"433.78\" y1=\"241.578\" x2=\"365.376\" y2=\"53.639\" stroke-linecap=\"round\" style=\"stroke:orange;stroke-width:1\"/><line x1=\"365.376\" y1=\"53.639\" x2=\"406.958\" y2=\"249.269\" stroke-linecap=\"round\" style=\"stroke:orange;stroke-width:1\"/><line x1=\"406.958\" y1=\"249.269\" x2=\"393.007\" y2=\"49.756\" stroke-linecap=\"round\" style=\"stroke:orange;stroke-width:1\"/><line x1=\"393.007\" y1=\"49.756\" x2=\"379.056\" y2=\"249.269\" stroke-linecap=\"round\" style=\"stroke:orange;stroke-width:1\"/><line x1=\"379.056\" y1=\"249.269\" x2=\"420.638\" y2=\"53.639\" stroke-linecap=\"round\" style=\"stroke:orange;stroke-width:1\"/><line x1=\"420.638\" y1=\"53.639\" x2=\"352.234\" y2=\"241.578\" stroke-linecap=\"round\" style=\"stroke:orange;stroke-width:1\"/><line x1=\"352.234\" y1=\"241.578\" x2=\"446.128\" y2=\"64.988\" stroke-linecap=\"round\" style=\"stroke:orange;stroke-width:1\"/><line x1=\"446.128\" y1=\"64.988\" x2=\"328.571\" y2=\"226.791\" stroke-linecap=\"round\" style=\"stroke:orange;stroke-width:1\"/><line x1=\"328.571\" y1=\"226.791\" x2=\"467.503\" y2=\"82.923\" stroke-linecap=\"round\" style=\"stroke:orange;stroke-width:1\"/><line x1=\"467.503\" y1=\"82.923\" x2=\"309.901\" y2=\"206.055\" stroke-linecap=\"round\" style=\"stroke:orange;stroke-width:1\"/><line x1=\"309.901\" y1=\"206.055\" x2=\"483.106\" y2=\"106.055\" stroke-linecap=\"round\" style=\"stroke:orange;stroke-width:1\"/><line x1=\"483.106\" y1=\"106.055\" x2=\"297.669\" y2=\"180.976\" stroke-linecap=\"round\" style=\"stroke:orange;stroke-width:1\"/><line x1=\"297.669\" y1=\"180.976\" x2=\"491.728\" y2=\"132.592\" stroke-linecap=\"round\" style=\"stroke:orange;stroke-width:1\"/><line x1=\"491.728\" y1=\"132.592\" x2=\"292.824\" y2=\"153.498\" stroke-linecap=\"round\" style=\"stroke:orange;stroke-width:1\"/><line x1=\"292.824\" y1=\"153.498\" x2=\"492.702\" y2=\"160.478\" stroke-linecap=\"round\" style=\"stroke:orange;stroke-width:1\"/><line x1=\"492.702\" y1=\"160.478\" x2=\"295.74\" y2=\"125.748\" stroke-linecap=\"round\" style=\"stroke:orange;stroke-width:1\"/><line x1=\"295.74\" y1=\"125.748\" x2=\"485.951\" y2=\"187.551\" stroke-linecap=\"round\" style=\"stroke:orange;stroke-width:1\"/><line x1=\"485.951\" y1=\"187.551\" x2=\"306.192\" y2=\"99.877\" stroke-linecap=\"round\" style=\"stroke:orange;stroke-width:1\"/><line x1=\"306.192\" y1=\"99.877\" x2=\"472.0\" y2=\"211.716\" stroke-linecap=\"round\" style=\"stroke:orange;stroke-width:1\"/><line x1=\"472.0\" y1=\"211.716\" x2=\"323.371\" y2=\"77.89\" stroke-linecap=\"round\" style=\"stroke:orange;stroke-width:1\"/><line x1=\"323.371\" y1=\"77.89\" x2=\"451.929\" y2=\"231.099\" stroke-linecap=\"round\" style=\"stroke:orange;stroke-width:1\"/><line x1=\"451.929\" y1=\"231.099\" x2=\"345.945\" y2=\"61.489\" stroke-linecap=\"round\" style=\"stroke:orange;stroke-width:1\"/><line x1=\"345.945\" y1=\"61.489\" x2=\"427.292\" y2=\"244.198\" stroke-linecap=\"round\" style=\"stroke:orange;stroke-width:1\"/><line x1=\"427.292\" y1=\"244.198\" x2=\"372.165\" y2=\"51.946\" stroke-linecap=\"round\" style=\"stroke:orange;stroke-width:1\"/><line x1=\"372.165\" y1=\"51.946\" x2=\"400.0\" y2=\"250.0\" stroke-linecap=\"round\" style=\"stroke:orange;stroke-width:1\"/><line x1=\"400.0\" y1=\"250.0\" x2=\"400.0\" y2=\"50.0\" stroke-linecap=\"round\" style=\"stroke:orange;stroke-width:1\"/><line x1=\"400.0\" y1=\"50.0\" x2=\"372.165\" y2=\"248.054\" stroke-linecap=\"round\" style=\"stroke:orange;stroke-width:1\"/><line x1=\"372.165\" y1=\"248.054\" x2=\"427.292\" y2=\"55.802\" stroke-linecap=\"round\" style=\"stroke:orange;stroke-width:1\"/><line x1=\"427.292\" y1=\"55.802\" x2=\"345.945\" y2=\"238.511\" stroke-linecap=\"round\" style=\"stroke:orange;stroke-width:1\"/><line x1=\"345.945\" y1=\"238.511\" x2=\"451.929\" y2=\"68.901\" stroke-linecap=\"round\" style=\"stroke:orange;stroke-width:1\"/><line x1=\"451.929\" y1=\"68.901\" x2=\"323.371\" y2=\"222.11\" stroke-linecap=\"round\" style=\"stroke:orange;stroke-width:1\"/><line x1=\"323.371\" y1=\"222.11\" x2=\"472.0\" y2=\"88.284\" stroke-linecap=\"round\" style=\"stroke:orange;stroke-width:1\"/><line x1=\"472.0\" y1=\"88.284\" x2=\"306.192\" y2=\"200.123\" stroke-linecap=\"round\" style=\"stroke:orange;stroke-width:1\"/><line x1=\"306.192\" y1=\"200.123\" x2=\"485.951\" y2=\"112.449\" stroke-linecap=\"round\" style=\"stroke:orange;stroke-width:1\"/><line x1=\"485.951\" y1=\"112.449\" x2=\"295.74\" y2=\"174.252\" stroke-linecap=\"round\" style=\"stroke:orange;stroke-width:1\"/><line x1=\"295.74\" y1=\"174.252\" x2=\"492.702\" y2=\"139.522\" stroke-linecap=\"round\" style=\"stroke:red;stroke-width:3\"/><line x1=\"492.702\" y1=\"139.522\" x2=\"292.702\" y2=\"139.522\" stroke-linecap=\"round\" style=\"stroke:red;stroke-width:3\"/><line x1=\"292.702\" y1=\"139.522\" x2=\"489.664\" y2=\"174.252\" stroke-linecap=\"round\" style=\"stroke:red;stroke-width:3\"/><line x1=\"489.664\" y1=\"174.252\" x2=\"301.725\" y2=\"105.848\" stroke-linecap=\"round\" style=\"stroke:red;stroke-width:3\"/><line x1=\"301.725\" y1=\"105.848\" x2=\"474.93\" y2=\"205.848\" stroke-linecap=\"round\" style=\"stroke:red;stroke-width:3\"/><line x1=\"474.93\" y1=\"205.848\" x2=\"321.721\" y2=\"77.29\" stroke-linecap=\"round\" style=\"stroke:red;stroke-width:3\"/><line x1=\"321.721\" y1=\"77.29\" x2=\"450.279\" y2=\"230.499\" stroke-linecap=\"round\" style=\"stroke:red;stroke-width:3\"/><line x1=\"450.279\" y1=\"230.499\" x2=\"350.279\" y2=\"57.294\" stroke-linecap=\"round\" style=\"stroke:red;stroke-width:3\"/><line x1=\"350.279\" y1=\"57.294\" x2=\"418.683\" y2=\"245.233\" stroke-linecap=\"round\" style=\"stroke:red;stroke-width:3\"/><line x1=\"418.683\" y1=\"245.233\" x2=\"383.953\" y2=\"48.271\" stroke-linecap=\"round\" style=\"stroke:red;stroke-width:3\"/><line x1=\"383.953\" y1=\"48.271\" x2=\"383.953\" y2=\"248.271\" stroke-linecap=\"round\" style=\"stroke:red;stroke-width:3\"/><line x1=\"383.953\" y1=\"248.271\" x2=\"418.683\" y2=\"51.309\" stroke-linecap=\"round\" style=\"stroke:red;stroke-width:3\"/><line x1=\"418.683\" y1=\"51.309\" x2=\"350.279\" y2=\"239.248\" stroke-linecap=\"round\" style=\"stroke:red;stroke-width:3\"/><line x1=\"350.279\" y1=\"239.248\" x2=\"450.279\" y2=\"66.043\" stroke-linecap=\"round\" style=\"stroke:red;stroke-width:3\"/><line x1=\"450.279\" y1=\"66.043\" x2=\"321.721\" y2=\"219.252\" stroke-linecap=\"round\" style=\"stroke:red;stroke-width:3\"/><line x1=\"321.721\" y1=\"219.252\" x2=\"474.93\" y2=\"90.694\" stroke-linecap=\"round\" style=\"stroke:red;stroke-width:3\"/><line x1=\"474.93\" y1=\"90.694\" x2=\"301.725\" y2=\"190.694\" stroke-linecap=\"round\" style=\"stroke:red;stroke-width:3\"/><line x1=\"301.725\" y1=\"190.694\" x2=\"489.664\" y2=\"122.29\" stroke-linecap=\"round\" style=\"stroke:red;stroke-width:3\"/><line x1=\"489.664\" y1=\"122.29\" x2=\"292.702\" y2=\"157.02\" stroke-linecap=\"round\" style=\"stroke:red;stroke-width:3\"/><line x1=\"292.702\" y1=\"157.02\" x2=\"492.702\" y2=\"157.02\" stroke-linecap=\"round\" style=\"stroke:red;stroke-width:3\"/><line x1=\"492.702\" y1=\"157.02\" x2=\"295.74\" y2=\"122.29\" stroke-linecap=\"round\" style=\"stroke:red;stroke-width:3\"/><line x1=\"295.74\" y1=\"122.29\" x2=\"483.679\" y2=\"190.694\" stroke-linecap=\"round\" style=\"stroke:red;stroke-width:3\"/><line x1=\"483.679\" y1=\"190.694\" x2=\"310.474\" y2=\"90.694\" stroke-linecap=\"round\" style=\"stroke:red;stroke-width:3\"/><line x1=\"310.474\" y1=\"90.694\" x2=\"463.683\" y2=\"219.252\" stroke-linecap=\"round\" style=\"stroke:red;stroke-width:3\"/><line x1=\"463.683\" y1=\"219.252\" x2=\"335.125\" y2=\"66.043\" stroke-linecap=\"round\" style=\"stroke:red;stroke-width:3\"/><line x1=\"335.125\" y1=\"66.043\" x2=\"435.125\" y2=\"239.248\" stroke-linecap=\"round\" style=\"stroke:red;stroke-width:3\"/><line x1=\"435.125\" y1=\"239.248\" x2=\"366.721\" y2=\"51.309\" stroke-linecap=\"round\" style=\"stroke:red;stroke-width:3\"/><line x1=\"366.721\" y1=\"51.309\" x2=\"401.451\" y2=\"248.271\" stroke-linecap=\"round\" style=\"stroke:red;stroke-width:3\"/><line x1=\"401.451\" y1=\"248.271\" x2=\"401.451\" y2=\"48.271\" stroke-linecap=\"round\" style=\"stroke:red;stroke-width:3\"/><line x1=\"401.451\" y1=\"48.271\" x2=\"366.721\" y2=\"245.233\" stroke-linecap=\"round\" style=\"stroke:red;stroke-width:3\"/><line x1=\"366.721\" y1=\"245.233\" x2=\"435.125\" y2=\"57.294\" stroke-linecap=\"round\" style=\"stroke:red;stroke-width:3\"/><line x1=\"435.125\" y1=\"57.294\" x2=\"335.125\" y2=\"230.499\" stroke-linecap=\"round\" style=\"stroke:red;stroke-width:3\"/><line x1=\"335.125\" y1=\"230.499\" x2=\"463.683\" y2=\"77.29\" stroke-linecap=\"round\" style=\"stroke:red;stroke-width:3\"/><line x1=\"463.683\" y1=\"77.29\" x2=\"310.474\" y2=\"205.848\" stroke-linecap=\"round\" style=\"stroke:red;stroke-width:3\"/><line x1=\"310.474\" y1=\"205.848\" x2=\"483.679\" y2=\"105.848\" stroke-linecap=\"round\" style=\"stroke:red;stroke-width:3\"/><line x1=\"483.679\" y1=\"105.848\" x2=\"295.74\" y2=\"174.252\" stroke-linecap=\"round\" style=\"stroke:red;stroke-width:3\"/>\n",
              "        <g visibility=visible transform=\"rotate(440,295.74,174.252) translate(277.74, 156.252)\">\n",
              "<path style=\" stroke:none;fill-rule:evenodd;fill:red;fill-opacity:1;\" d=\"M 18.214844 0.632812 C 16.109375 1.800781 15.011719 4.074219 15.074219 7.132812 L 15.085938 7.652344 L 14.785156 7.496094 C 13.476562 6.824219 11.957031 6.671875 10.40625 7.066406 C 8.46875 7.550781 6.515625 9.15625 4.394531 11.992188 C 3.0625 13.777344 2.679688 14.636719 3.042969 15.027344 L 3.15625 15.152344 L 3.519531 15.152344 C 4.238281 15.152344 4.828125 14.886719 8.1875 13.039062 C 9.386719 12.378906 10.371094 11.839844 10.378906 11.839844 C 10.386719 11.839844 10.355469 11.929688 10.304688 12.035156 C 9.832031 13.09375 9.257812 14.820312 8.96875 16.078125 C 7.914062 20.652344 8.617188 24.53125 11.070312 27.660156 C 11.351562 28.015625 11.363281 27.914062 10.972656 28.382812 C 8.925781 30.84375 7.945312 33.28125 8.238281 35.1875 C 8.289062 35.527344 8.28125 35.523438 8.917969 35.523438 C 10.941406 35.523438 13.074219 34.207031 15.136719 31.6875 C 15.359375 31.417969 15.328125 31.425781 15.5625 31.574219 C 16.292969 32.042969 18.023438 32.964844 18.175781 32.964844 C 18.335938 32.964844 19.941406 32.210938 20.828125 31.71875 C 20.996094 31.625 21.136719 31.554688 21.136719 31.558594 C 21.203125 31.664062 21.898438 32.414062 22.222656 32.730469 C 23.835938 34.300781 25.5625 35.132812 27.582031 35.300781 C 27.90625 35.328125 27.9375 35.308594 28.007812 34.984375 C 28.382812 33.242188 27.625 30.925781 25.863281 28.425781 L 25.542969 27.96875 L 25.699219 27.785156 C 28.945312 23.960938 29.132812 18.699219 26.257812 11.96875 L 26.207031 11.84375 L 27.945312 12.703125 C 31.53125 14.476562 32.316406 14.800781 33.03125 14.800781 C 33.976562 14.800781 33.78125 13.9375 32.472656 12.292969 C 28.519531 7.355469 25.394531 5.925781 21.921875 7.472656 L 21.558594 7.636719 L 21.578125 7.542969 C 21.699219 6.992188 21.761719 5.742188 21.699219 5.164062 C 21.496094 3.296875 20.664062 1.964844 19.003906 0.855469 C 18.480469 0.503906 18.457031 0.5 18.214844 0.632812\"/>\n",
              "</g>\n",
              "      </svg>\n",
              "    "
            ]
          },
          "metadata": {}
        }
      ],
      "source": [
        "initializeTurtle(initial_speed=10)\n",
        "color('orange')\n",
        "bgcolor('white')\n",
        "width(1)\n",
        "for i in range(100):\n",
        "    forward(200)\n",
        "    left(172)\n",
        "color('red')\n",
        "bgcolor('white')\n",
        "width(3)\n",
        "for i in range(36):\n",
        "    forward(200)\n",
        "    left(170)"
      ]
    },
    {
      "cell_type": "code",
      "execution_count": 38,
      "metadata": {
        "colab": {
          "base_uri": "https://localhost:8080/",
          "height": 520
        },
        "id": "P-g3cvWVkrXr",
        "outputId": "3aa6be31-25b4-4344-df56-e0861b9352ed"
      },
      "outputs": [
        {
          "output_type": "display_data",
          "data": {
            "text/plain": [
              "<IPython.core.display.HTML object>"
            ],
            "text/html": [
              "\n",
              "      <svg width=\"800\" height=\"500\">\n",
              "        <rect width=\"100%\" height=\"100%\" fill=\"white\"/>\n",
              "        <line x1=\"400\" y1=\"250\" x2=\"389.647\" y2=\"211.363\" stroke-linecap=\"round\" style=\"stroke:green;stroke-width:15\"/><line x1=\"389.647\" y1=\"211.363\" x2=\"373.647\" y2=\"183.65\" stroke-linecap=\"round\" style=\"stroke:green;stroke-width:11\"/><line x1=\"373.647\" y1=\"183.65\" x2=\"355.262\" y2=\"165.265\" stroke-linecap=\"round\" style=\"stroke:green;stroke-width:8\"/><line x1=\"355.262\" y1=\"165.265\" x2=\"337.075\" y2=\"154.765\" stroke-linecap=\"round\" style=\"stroke:green;stroke-width:6\"/><line x1=\"337.075\" y1=\"154.765\" x2=\"320.654\" y2=\"150.365\" stroke-linecap=\"round\" style=\"stroke:green;stroke-width:5\"/><line x1=\"320.654\" y1=\"150.365\" x2=\"306.654\" y2=\"150.365\" stroke-linecap=\"round\" style=\"stroke:green;stroke-width:4\"/><line x1=\"306.654\" y1=\"150.365\" x2=\"320.654\" y2=\"150.365\" stroke-linecap=\"round\" style=\"stroke:green;stroke-width:4\"/><line x1=\"320.654\" y1=\"150.365\" x2=\"308.53\" y2=\"143.365\" stroke-linecap=\"round\" style=\"stroke:green;stroke-width:4\"/><line x1=\"308.53\" y1=\"143.365\" x2=\"320.654\" y2=\"150.365\" stroke-linecap=\"round\" style=\"stroke:green;stroke-width:4\"/><line x1=\"320.654\" y1=\"150.365\" x2=\"337.075\" y2=\"154.765\" stroke-linecap=\"round\" style=\"stroke:green;stroke-width:4\"/><line x1=\"337.075\" y1=\"154.765\" x2=\"325.054\" y2=\"142.744\" stroke-linecap=\"round\" style=\"stroke:green;stroke-width:5\"/><line x1=\"325.054\" y1=\"142.744\" x2=\"312.93\" y2=\"135.744\" stroke-linecap=\"round\" style=\"stroke:green;stroke-width:4\"/><line x1=\"312.93\" y1=\"135.744\" x2=\"325.054\" y2=\"142.744\" stroke-linecap=\"round\" style=\"stroke:green;stroke-width:4\"/><line x1=\"325.054\" y1=\"142.744\" x2=\"318.054\" y2=\"130.62\" stroke-linecap=\"round\" style=\"stroke:green;stroke-width:4\"/><line x1=\"318.054\" y1=\"130.62\" x2=\"325.054\" y2=\"142.744\" stroke-linecap=\"round\" style=\"stroke:green;stroke-width:4\"/><line x1=\"325.054\" y1=\"142.744\" x2=\"337.075\" y2=\"154.765\" stroke-linecap=\"round\" style=\"stroke:green;stroke-width:4\"/><line x1=\"337.075\" y1=\"154.765\" x2=\"355.262\" y2=\"165.265\" stroke-linecap=\"round\" style=\"stroke:green;stroke-width:4\"/><line x1=\"355.262\" y1=\"165.265\" x2=\"344.762\" y2=\"147.078\" stroke-linecap=\"round\" style=\"stroke:green;stroke-width:6\"/><line x1=\"344.762\" y1=\"147.078\" x2=\"332.741\" y2=\"135.057\" stroke-linecap=\"round\" style=\"stroke:green;stroke-width:5\"/><line x1=\"332.741\" y1=\"135.057\" x2=\"320.617\" y2=\"128.057\" stroke-linecap=\"round\" style=\"stroke:green;stroke-width:4\"/><line x1=\"320.617\" y1=\"128.057\" x2=\"332.741\" y2=\"135.057\" stroke-linecap=\"round\" style=\"stroke:green;stroke-width:4\"/><line x1=\"332.741\" y1=\"135.057\" x2=\"325.741\" y2=\"122.933\" stroke-linecap=\"round\" style=\"stroke:green;stroke-width:4\"/><line x1=\"325.741\" y1=\"122.933\" x2=\"332.741\" y2=\"135.057\" stroke-linecap=\"round\" style=\"stroke:green;stroke-width:4\"/><line x1=\"332.741\" y1=\"135.057\" x2=\"344.762\" y2=\"147.078\" stroke-linecap=\"round\" style=\"stroke:green;stroke-width:4\"/><line x1=\"344.762\" y1=\"147.078\" x2=\"340.362\" y2=\"130.657\" stroke-linecap=\"round\" style=\"stroke:green;stroke-width:5\"/><line x1=\"340.362\" y1=\"130.657\" x2=\"333.362\" y2=\"118.533\" stroke-linecap=\"round\" style=\"stroke:green;stroke-width:4\"/><line x1=\"333.362\" y1=\"118.533\" x2=\"340.362\" y2=\"130.657\" stroke-linecap=\"round\" style=\"stroke:green;stroke-width:4\"/><line x1=\"340.362\" y1=\"130.657\" x2=\"340.362\" y2=\"116.657\" stroke-linecap=\"round\" style=\"stroke:green;stroke-width:4\"/><line x1=\"340.362\" y1=\"116.657\" x2=\"340.362\" y2=\"130.657\" stroke-linecap=\"round\" style=\"stroke:green;stroke-width:4\"/><line x1=\"340.362\" y1=\"130.657\" x2=\"344.762\" y2=\"147.078\" stroke-linecap=\"round\" style=\"stroke:green;stroke-width:4\"/><line x1=\"344.762\" y1=\"147.078\" x2=\"355.262\" y2=\"165.265\" stroke-linecap=\"round\" style=\"stroke:green;stroke-width:4\"/><line x1=\"355.262\" y1=\"165.265\" x2=\"373.647\" y2=\"183.65\" stroke-linecap=\"round\" style=\"stroke:green;stroke-width:4\"/><line x1=\"373.647\" y1=\"183.65\" x2=\"366.918\" y2=\"158.536\" stroke-linecap=\"round\" style=\"stroke:green;stroke-width:8\"/><line x1=\"366.918\" y1=\"158.536\" x2=\"356.418\" y2=\"140.349\" stroke-linecap=\"round\" style=\"stroke:green;stroke-width:6\"/><line x1=\"356.418\" y1=\"140.349\" x2=\"344.397\" y2=\"128.328\" stroke-linecap=\"round\" style=\"stroke:green;stroke-width:5\"/><line x1=\"344.397\" y1=\"128.328\" x2=\"332.273\" y2=\"121.328\" stroke-linecap=\"round\" style=\"stroke:green;stroke-width:4\"/><line x1=\"332.273\" y1=\"121.328\" x2=\"344.397\" y2=\"128.328\" stroke-linecap=\"round\" style=\"stroke:green;stroke-width:4\"/><line x1=\"344.397\" y1=\"128.328\" x2=\"337.397\" y2=\"116.204\" stroke-linecap=\"round\" style=\"stroke:green;stroke-width:4\"/><line x1=\"337.397\" y1=\"116.204\" x2=\"344.397\" y2=\"128.328\" stroke-linecap=\"round\" style=\"stroke:green;stroke-width:4\"/><line x1=\"344.397\" y1=\"128.328\" x2=\"356.418\" y2=\"140.349\" stroke-linecap=\"round\" style=\"stroke:green;stroke-width:4\"/><line x1=\"356.418\" y1=\"140.349\" x2=\"352.018\" y2=\"123.928\" stroke-linecap=\"round\" style=\"stroke:green;stroke-width:5\"/><line x1=\"352.018\" y1=\"123.928\" x2=\"345.018\" y2=\"111.804\" stroke-linecap=\"round\" style=\"stroke:green;stroke-width:4\"/><line x1=\"345.018\" y1=\"111.804\" x2=\"352.018\" y2=\"123.928\" stroke-linecap=\"round\" style=\"stroke:green;stroke-width:4\"/><line x1=\"352.018\" y1=\"123.928\" x2=\"352.018\" y2=\"109.928\" stroke-linecap=\"round\" style=\"stroke:green;stroke-width:4\"/><line x1=\"352.018\" y1=\"109.928\" x2=\"352.018\" y2=\"123.928\" stroke-linecap=\"round\" style=\"stroke:green;stroke-width:4\"/><line x1=\"352.018\" y1=\"123.928\" x2=\"356.418\" y2=\"140.349\" stroke-linecap=\"round\" style=\"stroke:green;stroke-width:4\"/><line x1=\"356.418\" y1=\"140.349\" x2=\"366.918\" y2=\"158.536\" stroke-linecap=\"round\" style=\"stroke:green;stroke-width:4\"/><line x1=\"366.918\" y1=\"158.536\" x2=\"366.918\" y2=\"137.536\" stroke-linecap=\"round\" style=\"stroke:green;stroke-width:6\"/><line x1=\"366.918\" y1=\"137.536\" x2=\"362.518\" y2=\"121.115\" stroke-linecap=\"round\" style=\"stroke:green;stroke-width:5\"/><line x1=\"362.518\" y1=\"121.115\" x2=\"355.518\" y2=\"108.991\" stroke-linecap=\"round\" style=\"stroke:green;stroke-width:4\"/><line x1=\"355.518\" y1=\"108.991\" x2=\"362.518\" y2=\"121.115\" stroke-linecap=\"round\" style=\"stroke:green;stroke-width:4\"/><line x1=\"362.518\" y1=\"121.115\" x2=\"362.518\" y2=\"107.115\" stroke-linecap=\"round\" style=\"stroke:green;stroke-width:4\"/><line x1=\"362.518\" y1=\"107.115\" x2=\"362.518\" y2=\"121.115\" stroke-linecap=\"round\" style=\"stroke:green;stroke-width:4\"/><line x1=\"362.518\" y1=\"121.115\" x2=\"366.918\" y2=\"137.536\" stroke-linecap=\"round\" style=\"stroke:green;stroke-width:4\"/><line x1=\"366.918\" y1=\"137.536\" x2=\"371.318\" y2=\"121.115\" stroke-linecap=\"round\" style=\"stroke:green;stroke-width:5\"/><line x1=\"371.318\" y1=\"121.115\" x2=\"371.318\" y2=\"107.115\" stroke-linecap=\"round\" style=\"stroke:green;stroke-width:4\"/><line x1=\"371.318\" y1=\"107.115\" x2=\"371.318\" y2=\"121.115\" stroke-linecap=\"round\" style=\"stroke:green;stroke-width:4\"/><line x1=\"371.318\" y1=\"121.115\" x2=\"378.318\" y2=\"108.991\" stroke-linecap=\"round\" style=\"stroke:green;stroke-width:4\"/><line x1=\"378.318\" y1=\"108.991\" x2=\"371.318\" y2=\"121.115\" stroke-linecap=\"round\" style=\"stroke:green;stroke-width:4\"/><line x1=\"371.318\" y1=\"121.115\" x2=\"366.918\" y2=\"137.536\" stroke-linecap=\"round\" style=\"stroke:green;stroke-width:4\"/><line x1=\"366.918\" y1=\"137.536\" x2=\"366.918\" y2=\"158.536\" stroke-linecap=\"round\" style=\"stroke:green;stroke-width:4\"/><line x1=\"366.918\" y1=\"158.536\" x2=\"373.647\" y2=\"183.65\" stroke-linecap=\"round\" style=\"stroke:green;stroke-width:4\"/><line x1=\"373.647\" y1=\"183.65\" x2=\"389.647\" y2=\"211.363\" stroke-linecap=\"round\" style=\"stroke:green;stroke-width:4\"/><line x1=\"389.647\" y1=\"211.363\" x2=\"389.647\" y2=\"179.363\" stroke-linecap=\"round\" style=\"stroke:green;stroke-width:11\"/><line x1=\"389.647\" y1=\"179.363\" x2=\"382.918\" y2=\"154.249\" stroke-linecap=\"round\" style=\"stroke:green;stroke-width:8\"/><line x1=\"382.918\" y1=\"154.249\" x2=\"372.418\" y2=\"136.062\" stroke-linecap=\"round\" style=\"stroke:green;stroke-width:6\"/><line x1=\"372.418\" y1=\"136.062\" x2=\"360.397\" y2=\"124.041\" stroke-linecap=\"round\" style=\"stroke:green;stroke-width:5\"/><line x1=\"360.397\" y1=\"124.041\" x2=\"348.273\" y2=\"117.041\" stroke-linecap=\"round\" style=\"stroke:green;stroke-width:4\"/><line x1=\"348.273\" y1=\"117.041\" x2=\"360.397\" y2=\"124.041\" stroke-linecap=\"round\" style=\"stroke:green;stroke-width:4\"/><line x1=\"360.397\" y1=\"124.041\" x2=\"353.397\" y2=\"111.917\" stroke-linecap=\"round\" style=\"stroke:green;stroke-width:4\"/><line x1=\"353.397\" y1=\"111.917\" x2=\"360.397\" y2=\"124.041\" stroke-linecap=\"round\" style=\"stroke:green;stroke-width:4\"/><line x1=\"360.397\" y1=\"124.041\" x2=\"372.418\" y2=\"136.062\" stroke-linecap=\"round\" style=\"stroke:green;stroke-width:4\"/><line x1=\"372.418\" y1=\"136.062\" x2=\"368.018\" y2=\"119.641\" stroke-linecap=\"round\" style=\"stroke:green;stroke-width:5\"/><line x1=\"368.018\" y1=\"119.641\" x2=\"361.018\" y2=\"107.517\" stroke-linecap=\"round\" style=\"stroke:green;stroke-width:4\"/><line x1=\"361.018\" y1=\"107.517\" x2=\"368.018\" y2=\"119.641\" stroke-linecap=\"round\" style=\"stroke:green;stroke-width:4\"/><line x1=\"368.018\" y1=\"119.641\" x2=\"368.018\" y2=\"105.641\" stroke-linecap=\"round\" style=\"stroke:green;stroke-width:4\"/><line x1=\"368.018\" y1=\"105.641\" x2=\"368.018\" y2=\"119.641\" stroke-linecap=\"round\" style=\"stroke:green;stroke-width:4\"/><line x1=\"368.018\" y1=\"119.641\" x2=\"372.418\" y2=\"136.062\" stroke-linecap=\"round\" style=\"stroke:green;stroke-width:4\"/><line x1=\"372.418\" y1=\"136.062\" x2=\"382.918\" y2=\"154.249\" stroke-linecap=\"round\" style=\"stroke:green;stroke-width:4\"/><line x1=\"382.918\" y1=\"154.249\" x2=\"382.918\" y2=\"133.249\" stroke-linecap=\"round\" style=\"stroke:green;stroke-width:6\"/><line x1=\"382.918\" y1=\"133.249\" x2=\"378.518\" y2=\"116.828\" stroke-linecap=\"round\" style=\"stroke:green;stroke-width:5\"/><line x1=\"378.518\" y1=\"116.828\" x2=\"371.518\" y2=\"104.704\" stroke-linecap=\"round\" style=\"stroke:green;stroke-width:4\"/><line x1=\"371.518\" y1=\"104.704\" x2=\"378.518\" y2=\"116.828\" stroke-linecap=\"round\" style=\"stroke:green;stroke-width:4\"/><line x1=\"378.518\" y1=\"116.828\" x2=\"378.518\" y2=\"102.828\" stroke-linecap=\"round\" style=\"stroke:green;stroke-width:4\"/><line x1=\"378.518\" y1=\"102.828\" x2=\"378.518\" y2=\"116.828\" stroke-linecap=\"round\" style=\"stroke:green;stroke-width:4\"/><line x1=\"378.518\" y1=\"116.828\" x2=\"382.918\" y2=\"133.249\" stroke-linecap=\"round\" style=\"stroke:green;stroke-width:4\"/><line x1=\"382.918\" y1=\"133.249\" x2=\"387.318\" y2=\"116.828\" stroke-linecap=\"round\" style=\"stroke:green;stroke-width:5\"/><line x1=\"387.318\" y1=\"116.828\" x2=\"387.318\" y2=\"102.828\" stroke-linecap=\"round\" style=\"stroke:green;stroke-width:4\"/><line x1=\"387.318\" y1=\"102.828\" x2=\"387.318\" y2=\"116.828\" stroke-linecap=\"round\" style=\"stroke:green;stroke-width:4\"/><line x1=\"387.318\" y1=\"116.828\" x2=\"394.318\" y2=\"104.704\" stroke-linecap=\"round\" style=\"stroke:green;stroke-width:4\"/><line x1=\"394.318\" y1=\"104.704\" x2=\"387.318\" y2=\"116.828\" stroke-linecap=\"round\" style=\"stroke:green;stroke-width:4\"/><line x1=\"387.318\" y1=\"116.828\" x2=\"382.918\" y2=\"133.249\" stroke-linecap=\"round\" style=\"stroke:green;stroke-width:4\"/><line x1=\"382.918\" y1=\"133.249\" x2=\"382.918\" y2=\"154.249\" stroke-linecap=\"round\" style=\"stroke:green;stroke-width:4\"/><line x1=\"382.918\" y1=\"154.249\" x2=\"389.647\" y2=\"179.363\" stroke-linecap=\"round\" style=\"stroke:green;stroke-width:4\"/><line x1=\"389.647\" y1=\"179.363\" x2=\"396.376\" y2=\"154.249\" stroke-linecap=\"round\" style=\"stroke:green;stroke-width:8\"/><line x1=\"396.376\" y1=\"154.249\" x2=\"396.376\" y2=\"133.249\" stroke-linecap=\"round\" style=\"stroke:green;stroke-width:6\"/><line x1=\"396.376\" y1=\"133.249\" x2=\"391.976\" y2=\"116.828\" stroke-linecap=\"round\" style=\"stroke:green;stroke-width:5\"/><line x1=\"391.976\" y1=\"116.828\" x2=\"384.976\" y2=\"104.704\" stroke-linecap=\"round\" style=\"stroke:green;stroke-width:4\"/><line x1=\"384.976\" y1=\"104.704\" x2=\"391.976\" y2=\"116.828\" stroke-linecap=\"round\" style=\"stroke:green;stroke-width:4\"/><line x1=\"391.976\" y1=\"116.828\" x2=\"391.976\" y2=\"102.828\" stroke-linecap=\"round\" style=\"stroke:green;stroke-width:4\"/><line x1=\"391.976\" y1=\"102.828\" x2=\"391.976\" y2=\"116.828\" stroke-linecap=\"round\" style=\"stroke:green;stroke-width:4\"/><line x1=\"391.976\" y1=\"116.828\" x2=\"396.376\" y2=\"133.249\" stroke-linecap=\"round\" style=\"stroke:green;stroke-width:4\"/><line x1=\"396.376\" y1=\"133.249\" x2=\"400.776\" y2=\"116.828\" stroke-linecap=\"round\" style=\"stroke:green;stroke-width:5\"/><line x1=\"400.776\" y1=\"116.828\" x2=\"400.776\" y2=\"102.828\" stroke-linecap=\"round\" style=\"stroke:green;stroke-width:4\"/><line x1=\"400.776\" y1=\"102.828\" x2=\"400.776\" y2=\"116.828\" stroke-linecap=\"round\" style=\"stroke:green;stroke-width:4\"/><line x1=\"400.776\" y1=\"116.828\" x2=\"407.776\" y2=\"104.704\" stroke-linecap=\"round\" style=\"stroke:green;stroke-width:4\"/><line x1=\"407.776\" y1=\"104.704\" x2=\"400.776\" y2=\"116.828\" stroke-linecap=\"round\" style=\"stroke:green;stroke-width:4\"/><line x1=\"400.776\" y1=\"116.828\" x2=\"396.376\" y2=\"133.249\" stroke-linecap=\"round\" style=\"stroke:green;stroke-width:4\"/><line x1=\"396.376\" y1=\"133.249\" x2=\"396.376\" y2=\"154.249\" stroke-linecap=\"round\" style=\"stroke:green;stroke-width:4\"/><line x1=\"396.376\" y1=\"154.249\" x2=\"406.876\" y2=\"136.062\" stroke-linecap=\"round\" style=\"stroke:green;stroke-width:6\"/><line x1=\"406.876\" y1=\"136.062\" x2=\"411.276\" y2=\"119.641\" stroke-linecap=\"round\" style=\"stroke:green;stroke-width:5\"/><line x1=\"411.276\" y1=\"119.641\" x2=\"411.276\" y2=\"105.641\" stroke-linecap=\"round\" style=\"stroke:green;stroke-width:4\"/><line x1=\"411.276\" y1=\"105.641\" x2=\"411.276\" y2=\"119.641\" stroke-linecap=\"round\" style=\"stroke:green;stroke-width:4\"/><line x1=\"411.276\" y1=\"119.641\" x2=\"418.276\" y2=\"107.517\" stroke-linecap=\"round\" style=\"stroke:green;stroke-width:4\"/><line x1=\"418.276\" y1=\"107.517\" x2=\"411.276\" y2=\"119.641\" stroke-linecap=\"round\" style=\"stroke:green;stroke-width:4\"/><line x1=\"411.276\" y1=\"119.641\" x2=\"406.876\" y2=\"136.062\" stroke-linecap=\"round\" style=\"stroke:green;stroke-width:4\"/><line x1=\"406.876\" y1=\"136.062\" x2=\"418.897\" y2=\"124.041\" stroke-linecap=\"round\" style=\"stroke:green;stroke-width:5\"/><line x1=\"418.897\" y1=\"124.041\" x2=\"425.897\" y2=\"111.917\" stroke-linecap=\"round\" style=\"stroke:green;stroke-width:4\"/><line x1=\"425.897\" y1=\"111.917\" x2=\"418.897\" y2=\"124.041\" stroke-linecap=\"round\" style=\"stroke:green;stroke-width:4\"/><line x1=\"418.897\" y1=\"124.041\" x2=\"431.021\" y2=\"117.041\" stroke-linecap=\"round\" style=\"stroke:green;stroke-width:4\"/><line x1=\"431.021\" y1=\"117.041\" x2=\"418.897\" y2=\"124.041\" stroke-linecap=\"round\" style=\"stroke:green;stroke-width:4\"/><line x1=\"418.897\" y1=\"124.041\" x2=\"406.876\" y2=\"136.062\" stroke-linecap=\"round\" style=\"stroke:green;stroke-width:4\"/><line x1=\"406.876\" y1=\"136.062\" x2=\"396.376\" y2=\"154.249\" stroke-linecap=\"round\" style=\"stroke:green;stroke-width:4\"/><line x1=\"396.376\" y1=\"154.249\" x2=\"389.647\" y2=\"179.363\" stroke-linecap=\"round\" style=\"stroke:green;stroke-width:4\"/><line x1=\"389.647\" y1=\"179.363\" x2=\"389.647\" y2=\"211.363\" stroke-linecap=\"round\" style=\"stroke:green;stroke-width:4\"/><line x1=\"389.647\" y1=\"211.363\" x2=\"400.0\" y2=\"250.0\" stroke-linecap=\"round\" style=\"stroke:green;stroke-width:4\"/><line x1=\"400.0\" y1=\"250.0\" x2=\"410.353\" y2=\"211.363\" stroke-linecap=\"round\" style=\"stroke:green;stroke-width:15\"/><line x1=\"410.353\" y1=\"211.363\" x2=\"410.353\" y2=\"179.363\" stroke-linecap=\"round\" style=\"stroke:green;stroke-width:11\"/><line x1=\"410.353\" y1=\"179.363\" x2=\"403.624\" y2=\"154.249\" stroke-linecap=\"round\" style=\"stroke:green;stroke-width:8\"/><line x1=\"403.624\" y1=\"154.249\" x2=\"393.124\" y2=\"136.062\" stroke-linecap=\"round\" style=\"stroke:green;stroke-width:6\"/><line x1=\"393.124\" y1=\"136.062\" x2=\"381.103\" y2=\"124.041\" stroke-linecap=\"round\" style=\"stroke:green;stroke-width:5\"/><line x1=\"381.103\" y1=\"124.041\" x2=\"368.979\" y2=\"117.041\" stroke-linecap=\"round\" style=\"stroke:green;stroke-width:4\"/><line x1=\"368.979\" y1=\"117.041\" x2=\"381.103\" y2=\"124.041\" stroke-linecap=\"round\" style=\"stroke:green;stroke-width:4\"/><line x1=\"381.103\" y1=\"124.041\" x2=\"374.103\" y2=\"111.917\" stroke-linecap=\"round\" style=\"stroke:green;stroke-width:4\"/><line x1=\"374.103\" y1=\"111.917\" x2=\"381.103\" y2=\"124.041\" stroke-linecap=\"round\" style=\"stroke:green;stroke-width:4\"/><line x1=\"381.103\" y1=\"124.041\" x2=\"393.124\" y2=\"136.062\" stroke-linecap=\"round\" style=\"stroke:green;stroke-width:4\"/><line x1=\"393.124\" y1=\"136.062\" x2=\"388.724\" y2=\"119.641\" stroke-linecap=\"round\" style=\"stroke:green;stroke-width:5\"/><line x1=\"388.724\" y1=\"119.641\" x2=\"381.724\" y2=\"107.517\" stroke-linecap=\"round\" style=\"stroke:green;stroke-width:4\"/><line x1=\"381.724\" y1=\"107.517\" x2=\"388.724\" y2=\"119.641\" stroke-linecap=\"round\" style=\"stroke:green;stroke-width:4\"/><line x1=\"388.724\" y1=\"119.641\" x2=\"388.724\" y2=\"105.641\" stroke-linecap=\"round\" style=\"stroke:green;stroke-width:4\"/><line x1=\"388.724\" y1=\"105.641\" x2=\"388.724\" y2=\"119.641\" stroke-linecap=\"round\" style=\"stroke:green;stroke-width:4\"/><line x1=\"388.724\" y1=\"119.641\" x2=\"393.124\" y2=\"136.062\" stroke-linecap=\"round\" style=\"stroke:green;stroke-width:4\"/><line x1=\"393.124\" y1=\"136.062\" x2=\"403.624\" y2=\"154.249\" stroke-linecap=\"round\" style=\"stroke:green;stroke-width:4\"/><line x1=\"403.624\" y1=\"154.249\" x2=\"403.624\" y2=\"133.249\" stroke-linecap=\"round\" style=\"stroke:green;stroke-width:6\"/><line x1=\"403.624\" y1=\"133.249\" x2=\"399.224\" y2=\"116.828\" stroke-linecap=\"round\" style=\"stroke:green;stroke-width:5\"/><line x1=\"399.224\" y1=\"116.828\" x2=\"392.224\" y2=\"104.704\" stroke-linecap=\"round\" style=\"stroke:green;stroke-width:4\"/><line x1=\"392.224\" y1=\"104.704\" x2=\"399.224\" y2=\"116.828\" stroke-linecap=\"round\" style=\"stroke:green;stroke-width:4\"/><line x1=\"399.224\" y1=\"116.828\" x2=\"399.224\" y2=\"102.828\" stroke-linecap=\"round\" style=\"stroke:green;stroke-width:4\"/><line x1=\"399.224\" y1=\"102.828\" x2=\"399.224\" y2=\"116.828\" stroke-linecap=\"round\" style=\"stroke:green;stroke-width:4\"/><line x1=\"399.224\" y1=\"116.828\" x2=\"403.624\" y2=\"133.249\" stroke-linecap=\"round\" style=\"stroke:green;stroke-width:4\"/><line x1=\"403.624\" y1=\"133.249\" x2=\"408.024\" y2=\"116.828\" stroke-linecap=\"round\" style=\"stroke:green;stroke-width:5\"/><line x1=\"408.024\" y1=\"116.828\" x2=\"408.024\" y2=\"102.828\" stroke-linecap=\"round\" style=\"stroke:green;stroke-width:4\"/><line x1=\"408.024\" y1=\"102.828\" x2=\"408.024\" y2=\"116.828\" stroke-linecap=\"round\" style=\"stroke:green;stroke-width:4\"/><line x1=\"408.024\" y1=\"116.828\" x2=\"415.024\" y2=\"104.704\" stroke-linecap=\"round\" style=\"stroke:green;stroke-width:4\"/><line x1=\"415.024\" y1=\"104.704\" x2=\"408.024\" y2=\"116.828\" stroke-linecap=\"round\" style=\"stroke:green;stroke-width:4\"/><line x1=\"408.024\" y1=\"116.828\" x2=\"403.624\" y2=\"133.249\" stroke-linecap=\"round\" style=\"stroke:green;stroke-width:4\"/><line x1=\"403.624\" y1=\"133.249\" x2=\"403.624\" y2=\"154.249\" stroke-linecap=\"round\" style=\"stroke:green;stroke-width:4\"/><line x1=\"403.624\" y1=\"154.249\" x2=\"410.353\" y2=\"179.363\" stroke-linecap=\"round\" style=\"stroke:green;stroke-width:4\"/><line x1=\"410.353\" y1=\"179.363\" x2=\"417.082\" y2=\"154.249\" stroke-linecap=\"round\" style=\"stroke:green;stroke-width:8\"/><line x1=\"417.082\" y1=\"154.249\" x2=\"417.082\" y2=\"133.249\" stroke-linecap=\"round\" style=\"stroke:green;stroke-width:6\"/><line x1=\"417.082\" y1=\"133.249\" x2=\"412.682\" y2=\"116.828\" stroke-linecap=\"round\" style=\"stroke:green;stroke-width:5\"/><line x1=\"412.682\" y1=\"116.828\" x2=\"405.682\" y2=\"104.704\" stroke-linecap=\"round\" style=\"stroke:green;stroke-width:4\"/><line x1=\"405.682\" y1=\"104.704\" x2=\"412.682\" y2=\"116.828\" stroke-linecap=\"round\" style=\"stroke:green;stroke-width:4\"/><line x1=\"412.682\" y1=\"116.828\" x2=\"412.682\" y2=\"102.828\" stroke-linecap=\"round\" style=\"stroke:green;stroke-width:4\"/><line x1=\"412.682\" y1=\"102.828\" x2=\"412.682\" y2=\"116.828\" stroke-linecap=\"round\" style=\"stroke:green;stroke-width:4\"/><line x1=\"412.682\" y1=\"116.828\" x2=\"417.082\" y2=\"133.249\" stroke-linecap=\"round\" style=\"stroke:green;stroke-width:4\"/><line x1=\"417.082\" y1=\"133.249\" x2=\"421.482\" y2=\"116.828\" stroke-linecap=\"round\" style=\"stroke:green;stroke-width:5\"/><line x1=\"421.482\" y1=\"116.828\" x2=\"421.482\" y2=\"102.828\" stroke-linecap=\"round\" style=\"stroke:green;stroke-width:4\"/><line x1=\"421.482\" y1=\"102.828\" x2=\"421.482\" y2=\"116.828\" stroke-linecap=\"round\" style=\"stroke:green;stroke-width:4\"/><line x1=\"421.482\" y1=\"116.828\" x2=\"428.482\" y2=\"104.704\" stroke-linecap=\"round\" style=\"stroke:green;stroke-width:4\"/><line x1=\"428.482\" y1=\"104.704\" x2=\"421.482\" y2=\"116.828\" stroke-linecap=\"round\" style=\"stroke:green;stroke-width:4\"/><line x1=\"421.482\" y1=\"116.828\" x2=\"417.082\" y2=\"133.249\" stroke-linecap=\"round\" style=\"stroke:green;stroke-width:4\"/><line x1=\"417.082\" y1=\"133.249\" x2=\"417.082\" y2=\"154.249\" stroke-linecap=\"round\" style=\"stroke:green;stroke-width:4\"/><line x1=\"417.082\" y1=\"154.249\" x2=\"427.582\" y2=\"136.062\" stroke-linecap=\"round\" style=\"stroke:green;stroke-width:6\"/><line x1=\"427.582\" y1=\"136.062\" x2=\"431.982\" y2=\"119.641\" stroke-linecap=\"round\" style=\"stroke:green;stroke-width:5\"/><line x1=\"431.982\" y1=\"119.641\" x2=\"431.982\" y2=\"105.641\" stroke-linecap=\"round\" style=\"stroke:green;stroke-width:4\"/><line x1=\"431.982\" y1=\"105.641\" x2=\"431.982\" y2=\"119.641\" stroke-linecap=\"round\" style=\"stroke:green;stroke-width:4\"/><line x1=\"431.982\" y1=\"119.641\" x2=\"438.982\" y2=\"107.517\" stroke-linecap=\"round\" style=\"stroke:green;stroke-width:4\"/><line x1=\"438.982\" y1=\"107.517\" x2=\"431.982\" y2=\"119.641\" stroke-linecap=\"round\" style=\"stroke:green;stroke-width:4\"/><line x1=\"431.982\" y1=\"119.641\" x2=\"427.582\" y2=\"136.062\" stroke-linecap=\"round\" style=\"stroke:green;stroke-width:4\"/><line x1=\"427.582\" y1=\"136.062\" x2=\"439.603\" y2=\"124.041\" stroke-linecap=\"round\" style=\"stroke:green;stroke-width:5\"/><line x1=\"439.603\" y1=\"124.041\" x2=\"446.603\" y2=\"111.917\" stroke-linecap=\"round\" style=\"stroke:green;stroke-width:4\"/><line x1=\"446.603\" y1=\"111.917\" x2=\"439.603\" y2=\"124.041\" stroke-linecap=\"round\" style=\"stroke:green;stroke-width:4\"/><line x1=\"439.603\" y1=\"124.041\" x2=\"451.727\" y2=\"117.041\" stroke-linecap=\"round\" style=\"stroke:green;stroke-width:4\"/><line x1=\"451.727\" y1=\"117.041\" x2=\"439.603\" y2=\"124.041\" stroke-linecap=\"round\" style=\"stroke:green;stroke-width:4\"/><line x1=\"439.603\" y1=\"124.041\" x2=\"427.582\" y2=\"136.062\" stroke-linecap=\"round\" style=\"stroke:green;stroke-width:4\"/><line x1=\"427.582\" y1=\"136.062\" x2=\"417.082\" y2=\"154.249\" stroke-linecap=\"round\" style=\"stroke:green;stroke-width:4\"/><line x1=\"417.082\" y1=\"154.249\" x2=\"410.353\" y2=\"179.363\" stroke-linecap=\"round\" style=\"stroke:green;stroke-width:4\"/><line x1=\"410.353\" y1=\"179.363\" x2=\"410.353\" y2=\"211.363\" stroke-linecap=\"round\" style=\"stroke:green;stroke-width:4\"/><line x1=\"410.353\" y1=\"211.363\" x2=\"426.353\" y2=\"183.65\" stroke-linecap=\"round\" style=\"stroke:green;stroke-width:11\"/><line x1=\"426.353\" y1=\"183.65\" x2=\"433.082\" y2=\"158.536\" stroke-linecap=\"round\" style=\"stroke:green;stroke-width:8\"/><line x1=\"433.082\" y1=\"158.536\" x2=\"433.082\" y2=\"137.536\" stroke-linecap=\"round\" style=\"stroke:green;stroke-width:6\"/><line x1=\"433.082\" y1=\"137.536\" x2=\"428.682\" y2=\"121.115\" stroke-linecap=\"round\" style=\"stroke:green;stroke-width:5\"/><line x1=\"428.682\" y1=\"121.115\" x2=\"421.682\" y2=\"108.991\" stroke-linecap=\"round\" style=\"stroke:green;stroke-width:4\"/><line x1=\"421.682\" y1=\"108.991\" x2=\"428.682\" y2=\"121.115\" stroke-linecap=\"round\" style=\"stroke:green;stroke-width:4\"/><line x1=\"428.682\" y1=\"121.115\" x2=\"428.682\" y2=\"107.115\" stroke-linecap=\"round\" style=\"stroke:green;stroke-width:4\"/><line x1=\"428.682\" y1=\"107.115\" x2=\"428.682\" y2=\"121.115\" stroke-linecap=\"round\" style=\"stroke:green;stroke-width:4\"/><line x1=\"428.682\" y1=\"121.115\" x2=\"433.082\" y2=\"137.536\" stroke-linecap=\"round\" style=\"stroke:green;stroke-width:4\"/><line x1=\"433.082\" y1=\"137.536\" x2=\"437.482\" y2=\"121.115\" stroke-linecap=\"round\" style=\"stroke:green;stroke-width:5\"/><line x1=\"437.482\" y1=\"121.115\" x2=\"437.482\" y2=\"107.115\" stroke-linecap=\"round\" style=\"stroke:green;stroke-width:4\"/><line x1=\"437.482\" y1=\"107.115\" x2=\"437.482\" y2=\"121.115\" stroke-linecap=\"round\" style=\"stroke:green;stroke-width:4\"/><line x1=\"437.482\" y1=\"121.115\" x2=\"444.482\" y2=\"108.991\" stroke-linecap=\"round\" style=\"stroke:green;stroke-width:4\"/><line x1=\"444.482\" y1=\"108.991\" x2=\"437.482\" y2=\"121.115\" stroke-linecap=\"round\" style=\"stroke:green;stroke-width:4\"/><line x1=\"437.482\" y1=\"121.115\" x2=\"433.082\" y2=\"137.536\" stroke-linecap=\"round\" style=\"stroke:green;stroke-width:4\"/><line x1=\"433.082\" y1=\"137.536\" x2=\"433.082\" y2=\"158.536\" stroke-linecap=\"round\" style=\"stroke:green;stroke-width:4\"/><line x1=\"433.082\" y1=\"158.536\" x2=\"443.582\" y2=\"140.349\" stroke-linecap=\"round\" style=\"stroke:green;stroke-width:6\"/><line x1=\"443.582\" y1=\"140.349\" x2=\"447.982\" y2=\"123.928\" stroke-linecap=\"round\" style=\"stroke:green;stroke-width:5\"/><line x1=\"447.982\" y1=\"123.928\" x2=\"447.982\" y2=\"109.928\" stroke-linecap=\"round\" style=\"stroke:green;stroke-width:4\"/><line x1=\"447.982\" y1=\"109.928\" x2=\"447.982\" y2=\"123.928\" stroke-linecap=\"round\" style=\"stroke:green;stroke-width:4\"/><line x1=\"447.982\" y1=\"123.928\" x2=\"454.982\" y2=\"111.804\" stroke-linecap=\"round\" style=\"stroke:green;stroke-width:4\"/><line x1=\"454.982\" y1=\"111.804\" x2=\"447.982\" y2=\"123.928\" stroke-linecap=\"round\" style=\"stroke:green;stroke-width:4\"/><line x1=\"447.982\" y1=\"123.928\" x2=\"443.582\" y2=\"140.349\" stroke-linecap=\"round\" style=\"stroke:green;stroke-width:4\"/><line x1=\"443.582\" y1=\"140.349\" x2=\"455.603\" y2=\"128.328\" stroke-linecap=\"round\" style=\"stroke:green;stroke-width:5\"/><line x1=\"455.603\" y1=\"128.328\" x2=\"462.603\" y2=\"116.204\" stroke-linecap=\"round\" style=\"stroke:green;stroke-width:4\"/><line x1=\"462.603\" y1=\"116.204\" x2=\"455.603\" y2=\"128.328\" stroke-linecap=\"round\" style=\"stroke:green;stroke-width:4\"/><line x1=\"455.603\" y1=\"128.328\" x2=\"467.727\" y2=\"121.328\" stroke-linecap=\"round\" style=\"stroke:green;stroke-width:4\"/><line x1=\"467.727\" y1=\"121.328\" x2=\"455.603\" y2=\"128.328\" stroke-linecap=\"round\" style=\"stroke:green;stroke-width:4\"/><line x1=\"455.603\" y1=\"128.328\" x2=\"443.582\" y2=\"140.349\" stroke-linecap=\"round\" style=\"stroke:green;stroke-width:4\"/><line x1=\"443.582\" y1=\"140.349\" x2=\"433.082\" y2=\"158.536\" stroke-linecap=\"round\" style=\"stroke:green;stroke-width:4\"/><line x1=\"433.082\" y1=\"158.536\" x2=\"426.353\" y2=\"183.65\" stroke-linecap=\"round\" style=\"stroke:green;stroke-width:4\"/><line x1=\"426.353\" y1=\"183.65\" x2=\"444.738\" y2=\"165.265\" stroke-linecap=\"round\" style=\"stroke:green;stroke-width:8\"/><line x1=\"444.738\" y1=\"165.265\" x2=\"455.238\" y2=\"147.078\" stroke-linecap=\"round\" style=\"stroke:green;stroke-width:6\"/><line x1=\"455.238\" y1=\"147.078\" x2=\"459.638\" y2=\"130.657\" stroke-linecap=\"round\" style=\"stroke:green;stroke-width:5\"/><line x1=\"459.638\" y1=\"130.657\" x2=\"459.638\" y2=\"116.657\" stroke-linecap=\"round\" style=\"stroke:green;stroke-width:4\"/><line x1=\"459.638\" y1=\"116.657\" x2=\"459.638\" y2=\"130.657\" stroke-linecap=\"round\" style=\"stroke:green;stroke-width:4\"/><line x1=\"459.638\" y1=\"130.657\" x2=\"466.638\" y2=\"118.533\" stroke-linecap=\"round\" style=\"stroke:green;stroke-width:4\"/><line x1=\"466.638\" y1=\"118.533\" x2=\"459.638\" y2=\"130.657\" stroke-linecap=\"round\" style=\"stroke:green;stroke-width:4\"/><line x1=\"459.638\" y1=\"130.657\" x2=\"455.238\" y2=\"147.078\" stroke-linecap=\"round\" style=\"stroke:green;stroke-width:4\"/><line x1=\"455.238\" y1=\"147.078\" x2=\"467.259\" y2=\"135.057\" stroke-linecap=\"round\" style=\"stroke:green;stroke-width:5\"/><line x1=\"467.259\" y1=\"135.057\" x2=\"474.259\" y2=\"122.933\" stroke-linecap=\"round\" style=\"stroke:green;stroke-width:4\"/><line x1=\"474.259\" y1=\"122.933\" x2=\"467.259\" y2=\"135.057\" stroke-linecap=\"round\" style=\"stroke:green;stroke-width:4\"/><line x1=\"467.259\" y1=\"135.057\" x2=\"479.383\" y2=\"128.057\" stroke-linecap=\"round\" style=\"stroke:green;stroke-width:4\"/><line x1=\"479.383\" y1=\"128.057\" x2=\"467.259\" y2=\"135.057\" stroke-linecap=\"round\" style=\"stroke:green;stroke-width:4\"/><line x1=\"467.259\" y1=\"135.057\" x2=\"455.238\" y2=\"147.078\" stroke-linecap=\"round\" style=\"stroke:green;stroke-width:4\"/><line x1=\"455.238\" y1=\"147.078\" x2=\"444.738\" y2=\"165.265\" stroke-linecap=\"round\" style=\"stroke:green;stroke-width:4\"/><line x1=\"444.738\" y1=\"165.265\" x2=\"462.925\" y2=\"154.765\" stroke-linecap=\"round\" style=\"stroke:green;stroke-width:6\"/><line x1=\"462.925\" y1=\"154.765\" x2=\"474.946\" y2=\"142.744\" stroke-linecap=\"round\" style=\"stroke:green;stroke-width:5\"/><line x1=\"474.946\" y1=\"142.744\" x2=\"481.946\" y2=\"130.62\" stroke-linecap=\"round\" style=\"stroke:green;stroke-width:4\"/><line x1=\"481.946\" y1=\"130.62\" x2=\"474.946\" y2=\"142.744\" stroke-linecap=\"round\" style=\"stroke:green;stroke-width:4\"/><line x1=\"474.946\" y1=\"142.744\" x2=\"487.07\" y2=\"135.744\" stroke-linecap=\"round\" style=\"stroke:green;stroke-width:4\"/><line x1=\"487.07\" y1=\"135.744\" x2=\"474.946\" y2=\"142.744\" stroke-linecap=\"round\" style=\"stroke:green;stroke-width:4\"/><line x1=\"474.946\" y1=\"142.744\" x2=\"462.925\" y2=\"154.765\" stroke-linecap=\"round\" style=\"stroke:green;stroke-width:4\"/><line x1=\"462.925\" y1=\"154.765\" x2=\"479.346\" y2=\"150.365\" stroke-linecap=\"round\" style=\"stroke:green;stroke-width:5\"/><line x1=\"479.346\" y1=\"150.365\" x2=\"491.47\" y2=\"143.365\" stroke-linecap=\"round\" style=\"stroke:green;stroke-width:4\"/><line x1=\"491.47\" y1=\"143.365\" x2=\"479.346\" y2=\"150.365\" stroke-linecap=\"round\" style=\"stroke:green;stroke-width:4\"/><line x1=\"479.346\" y1=\"150.365\" x2=\"493.346\" y2=\"150.365\" stroke-linecap=\"round\" style=\"stroke:green;stroke-width:4\"/><line x1=\"493.346\" y1=\"150.365\" x2=\"479.346\" y2=\"150.365\" stroke-linecap=\"round\" style=\"stroke:green;stroke-width:4\"/><line x1=\"479.346\" y1=\"150.365\" x2=\"462.925\" y2=\"154.765\" stroke-linecap=\"round\" style=\"stroke:green;stroke-width:4\"/><line x1=\"462.925\" y1=\"154.765\" x2=\"444.738\" y2=\"165.265\" stroke-linecap=\"round\" style=\"stroke:green;stroke-width:4\"/><line x1=\"444.738\" y1=\"165.265\" x2=\"426.353\" y2=\"183.65\" stroke-linecap=\"round\" style=\"stroke:green;stroke-width:4\"/><line x1=\"426.353\" y1=\"183.65\" x2=\"410.353\" y2=\"211.363\" stroke-linecap=\"round\" style=\"stroke:green;stroke-width:4\"/><line x1=\"410.353\" y1=\"211.363\" x2=\"400.0\" y2=\"250.0\" stroke-linecap=\"round\" style=\"stroke:green;stroke-width:4\"/>\n",
              "        <g visibility=visible transform=\"rotate(360,400.0,250.0) translate(382.0, 232.0)\">\n",
              "<path style=\" stroke:none;fill-rule:evenodd;fill:green;fill-opacity:1;\" d=\"M 18.214844 0.632812 C 16.109375 1.800781 15.011719 4.074219 15.074219 7.132812 L 15.085938 7.652344 L 14.785156 7.496094 C 13.476562 6.824219 11.957031 6.671875 10.40625 7.066406 C 8.46875 7.550781 6.515625 9.15625 4.394531 11.992188 C 3.0625 13.777344 2.679688 14.636719 3.042969 15.027344 L 3.15625 15.152344 L 3.519531 15.152344 C 4.238281 15.152344 4.828125 14.886719 8.1875 13.039062 C 9.386719 12.378906 10.371094 11.839844 10.378906 11.839844 C 10.386719 11.839844 10.355469 11.929688 10.304688 12.035156 C 9.832031 13.09375 9.257812 14.820312 8.96875 16.078125 C 7.914062 20.652344 8.617188 24.53125 11.070312 27.660156 C 11.351562 28.015625 11.363281 27.914062 10.972656 28.382812 C 8.925781 30.84375 7.945312 33.28125 8.238281 35.1875 C 8.289062 35.527344 8.28125 35.523438 8.917969 35.523438 C 10.941406 35.523438 13.074219 34.207031 15.136719 31.6875 C 15.359375 31.417969 15.328125 31.425781 15.5625 31.574219 C 16.292969 32.042969 18.023438 32.964844 18.175781 32.964844 C 18.335938 32.964844 19.941406 32.210938 20.828125 31.71875 C 20.996094 31.625 21.136719 31.554688 21.136719 31.558594 C 21.203125 31.664062 21.898438 32.414062 22.222656 32.730469 C 23.835938 34.300781 25.5625 35.132812 27.582031 35.300781 C 27.90625 35.328125 27.9375 35.308594 28.007812 34.984375 C 28.382812 33.242188 27.625 30.925781 25.863281 28.425781 L 25.542969 27.96875 L 25.699219 27.785156 C 28.945312 23.960938 29.132812 18.699219 26.257812 11.96875 L 26.207031 11.84375 L 27.945312 12.703125 C 31.53125 14.476562 32.316406 14.800781 33.03125 14.800781 C 33.976562 14.800781 33.78125 13.9375 32.472656 12.292969 C 28.519531 7.355469 25.394531 5.925781 21.921875 7.472656 L 21.558594 7.636719 L 21.578125 7.542969 C 21.699219 6.992188 21.761719 5.742188 21.699219 5.164062 C 21.496094 3.296875 20.664062 1.964844 19.003906 0.855469 C 18.480469 0.503906 18.457031 0.5 18.214844 0.632812\"/>\n",
              "</g>\n",
              "      </svg>\n",
              "    "
            ]
          },
          "metadata": {}
        }
      ],
      "source": [
        "initializeTurtle(initial_speed=10)\n",
        "color('green')\n",
        "bgcolor('white')\n",
        "\n",
        "min_length=15\n",
        "\n",
        "def draw_branch(l, w):\n",
        "    left(15)\n",
        "    draw_stick(l, w)\n",
        "    right(30)\n",
        "    draw_stick(l, w)\n",
        "    left(15)\n",
        "\n",
        "def draw_stick(l, w):\n",
        "    width(w)\n",
        "    forward(l)\n",
        "    if min_length < l:\n",
        "        draw_branch(math.ceil(l*0.8), math.ceil(w*0.7))\n",
        "    backward(l)\n",
        "\n",
        "draw_branch(40, 15)"
      ]
    },
    {
      "cell_type": "markdown",
      "metadata": {
        "id": "gOleysFXW9Rq"
      },
      "source": [
        "# **条件分岐**\n",
        "値に応じて処理を変更したいとき、if 文を使います。\n",
        "\n",
        "## if文\n",
        "```\n",
        "if 条件式1:\n",
        "  条件式がTRUEのとき実行する処理\n",
        "elif 条件式2:\n",
        "  条件式1がFALSEで，条件式BがTRUEのとき実行する処理\n",
        "elif 条件式3:\n",
        "  ...\n",
        "else:\n",
        "  全ての条件式がFALSEのときに実行する処理\n",
        "```\n",
        "if文の中で実行する処理は、インデント（字下げ）します。インデントはtabキーを押します．\n",
        "\n",
        "## 条件式\n",
        "- ==（等号）：右辺と左辺が等しいときのみ真\n",
        "- !=（ノットイコール）：右辺と左辺が等しくないときのみ真\n",
        "- <（小なり）：左辺が右辺より小さいとき真\n",
        "- <=（小なりイコール）：左辺が右辺以下であるとき真\n",
        "- \\>（大なり）：左辺が右辺より大きいとき真\n",
        "- \\>=（大なりイコール）：左辺が右辺以上であるとき真"
      ]
    },
    {
      "cell_type": "markdown",
      "metadata": {
        "id": "pxLGg0ZoxzUc"
      },
      "source": [
        "**確認：文字を比較する。**"
      ]
    },
    {
      "cell_type": "code",
      "execution_count": 41,
      "metadata": {
        "colab": {
          "base_uri": "https://localhost:8080/"
        },
        "id": "84wnex_QNlpp",
        "outputId": "6a4adc67-7111-4282-e44b-9128db61c17a"
      },
      "outputs": [
        {
          "output_type": "stream",
          "name": "stdout",
          "text": [
            "1つ目の式はTRUE（正しい）\n"
          ]
        }
      ],
      "source": [
        "if \"colaboratory\"==\"colaboratory\":\n",
        "  print(\"1つ目の式はTRUE（正しい）\")"
      ]
    },
    {
      "cell_type": "code",
      "execution_count": 43,
      "metadata": {
        "id": "zqA8VSywuMqT"
      },
      "outputs": [],
      "source": [
        "if \"Colaboratory\"==\"colaboratory\":\n",
        "  print(\"2つ目の式はTRUE（正しい）\")\n",
        "if \"cOlaboratory\"==\"colaboratory\":\n",
        "  print(\"3つ目の式はTRUE（正しい）\")"
      ]
    },
    {
      "cell_type": "markdown",
      "metadata": {
        "id": "MQjmPz9yN2Y3"
      },
      "source": [
        "**確認：数値(スカラー)を比較する。**"
      ]
    },
    {
      "cell_type": "code",
      "execution_count": 51,
      "metadata": {
        "colab": {
          "base_uri": "https://localhost:8080/"
        },
        "id": "zEWce96lNli9",
        "outputId": "29e316be-cd9c-464e-fbb0-8fd225d5b9d2"
      },
      "outputs": [
        {
          "output_type": "stream",
          "name": "stdout",
          "text": [
            "5つ目の式はTRUE（正しい）\n"
          ]
        }
      ],
      "source": [
        "#if 1==1:\n",
        "#  print(\"1つ目の式はTRUE（正しい）\")\n",
        "#if 4-4==0:\n",
        "#  print(\"2つ目の式はTRUE（正しい）\")\n",
        "#if 3 == len([0,1,2]):\n",
        "#  print(\"3つ目の式はTRUE（正しい）\")\n",
        "#if 1+2+3+4==10:\n",
        "#  print(\"4つ目の式はTRUE（正しい）\")\n",
        "#if sum([1,2,3,4])==10:\n",
        "#  print(\"5つ目の式はTRUE（正しい）\")"
      ]
    },
    {
      "cell_type": "code",
      "source": [
        "len([0,1,2])"
      ],
      "metadata": {
        "id": "NROslw5a68L5",
        "outputId": "d25bdc1f-e917-4a80-af78-f4fb60f47b69",
        "colab": {
          "base_uri": "https://localhost:8080/"
        }
      },
      "execution_count": 48,
      "outputs": [
        {
          "output_type": "execute_result",
          "data": {
            "text/plain": [
              "3"
            ]
          },
          "metadata": {},
          "execution_count": 48
        }
      ]
    },
    {
      "cell_type": "markdown",
      "metadata": {
        "id": "LPfCDPDhOWb2"
      },
      "source": [
        "**確認：リストを比較する**"
      ]
    },
    {
      "cell_type": "code",
      "execution_count": 54,
      "metadata": {
        "colab": {
          "base_uri": "https://localhost:8080/"
        },
        "id": "_f02LG70OUSx",
        "outputId": "c5cbfc4f-8291-4fae-d282-b766a05793fb"
      },
      "outputs": [
        {
          "output_type": "stream",
          "name": "stdout",
          "text": [
            "1つ目の式はTRUE（正しい）\n"
          ]
        }
      ],
      "source": [
        "if [8,9,10,11]==[8,9,10,11]:\n",
        "  print(\"1つ目の式はTRUE（正しい）\")\n",
        "if [11,10,9,8]==[8,9,10,11]:\n",
        "  print(\"2つ目の式はTRUE（正しい）\")\n",
        "if [8,9,10]==[8,9,10,11]:\n",
        "  print(\"3つ目の式はTRUE（正しい）\")\n",
        "if [8,9,10,11,100]==[1,2,3]:\n",
        "  print(\"4つ目の式はTRUE（正しい）\")"
      ]
    },
    {
      "cell_type": "code",
      "execution_count": 58,
      "metadata": {
        "colab": {
          "base_uri": "https://localhost:8080/"
        },
        "id": "GHkEyP6hNlak",
        "outputId": "324a359a-9a36-4f40-a5ce-f55f9caa874d"
      },
      "outputs": [
        {
          "output_type": "stream",
          "name": "stdout",
          "text": [
            "C\n"
          ]
        }
      ],
      "source": [
        "score = 3\n",
        "\n",
        "if score >= 80:\n",
        "  print(\"A\")\n",
        "elif 79>= score >= 60:\n",
        "  print(\"B\")\n",
        "else:\n",
        "  print(\"C\")"
      ]
    },
    {
      "cell_type": "markdown",
      "metadata": {
        "id": "eP69_k3QPPUM"
      },
      "source": [
        "**if-else**"
      ]
    },
    {
      "cell_type": "code",
      "execution_count": 60,
      "metadata": {
        "colab": {
          "base_uri": "https://localhost:8080/"
        },
        "id": "IKSSr0QDaz3z",
        "outputId": "a56f1e66-95fb-4074-ff97-7358a3e1f9b9"
      },
      "outputs": [
        {
          "output_type": "stream",
          "name": "stdout",
          "text": [
            "2+2*2+2==10はTRUE（正しい）\n"
          ]
        }
      ],
      "source": [
        "if 2+2*2+2==10:\n",
        "  print(\"2+2*2+2==10はTRUE（正しい）\")\n",
        "else:\n",
        "  print(\"2+2*2+2==10はFALSE（誤っている）\")"
      ]
    },
    {
      "cell_type": "markdown",
      "metadata": {
        "id": "YFDcDYQSPSLR"
      },
      "source": [
        "**if else 応用**"
      ]
    },
    {
      "cell_type": "code",
      "execution_count": 63,
      "metadata": {
        "colab": {
          "base_uri": "https://localhost:8080/"
        },
        "id": "cyu9W-37O72y",
        "outputId": "d3d0b785-9d82-4af5-a30c-93d8b0319595"
      },
      "outputs": [
        {
          "output_type": "stream",
          "name": "stdout",
          "text": [
            "1974 年、スギモト生まれる\n"
          ]
        }
      ],
      "source": [
        "a_year=1974\n",
        "if a_year==1974:\n",
        "  print(a_year,\"年、スギモト生まれる\")\n",
        "else:\n",
        "  print(a_year,\"年はスギモトが生まれたトシではない\")"
      ]
    },
    {
      "cell_type": "markdown",
      "metadata": {
        "id": "u3pmOHCwQBoL"
      },
      "source": [
        "**年齢判別コード**"
      ]
    },
    {
      "cell_type": "code",
      "execution_count": 64,
      "metadata": {
        "colab": {
          "base_uri": "https://localhost:8080/"
        },
        "id": "-CrwvMs4PcvW",
        "outputId": "fd2a2eff-ce1a-4def-8952-4c65435c2ac7"
      },
      "outputs": [
        {
          "output_type": "stream",
          "name": "stdout",
          "text": [
            "スギモトは 2024 時点で 50 才\n"
          ]
        }
      ],
      "source": [
        "a_year=2024\n",
        "if a_year>=1974:\n",
        "  print(\"スギモトは\",a_year,\"時点で\",a_year-1974,\"才\")\n",
        "else:\n",
        "  print(a_year,\"年にはまだスギモトが生まれていない\")"
      ]
    },
    {
      "cell_type": "markdown",
      "metadata": {
        "id": "wXC9alal12Bk"
      },
      "source": [
        "**年齢判定コード**"
      ]
    },
    {
      "cell_type": "code",
      "execution_count": null,
      "metadata": {
        "colab": {
          "base_uri": "https://localhost:8080/"
        },
        "id": "58IE8_63K5Qh",
        "outputId": "32ebf1ac-14fd-4e75-b015-7b06ad116c6f"
      },
      "outputs": [
        {
          "name": "stdout",
          "output_type": "stream",
          "text": [
            "2022 年、スギモト 48 才\n"
          ]
        }
      ],
      "source": [
        "a_year=2022\n",
        "if a_year==1974:\n",
        "  print(a_year,\"年、スギモト生まれる\")\n",
        "elif a_year>1974:\n",
        "  print(a_year,\"年、スギモト\", a_year-1974,\"才\")"
      ]
    },
    {
      "cell_type": "code",
      "execution_count": null,
      "metadata": {
        "colab": {
          "base_uri": "https://localhost:8080/"
        },
        "id": "Z6nLnKhuLOaO",
        "outputId": "a6b45321-7778-4d16-853b-b53f921ded99"
      },
      "outputs": [
        {
          "name": "stdout",
          "output_type": "stream",
          "text": [
            "57 素数ではありません\n"
          ]
        }
      ],
      "source": [
        "a_num=57\n",
        "for num in range(2,a_num):\n",
        "  if a_num % num==0:\n",
        "    print(a_num, \"素数ではありません\")\n",
        "    break"
      ]
    },
    {
      "cell_type": "markdown",
      "metadata": {
        "id": "t_QVuVSB20xK"
      },
      "source": [
        "まだです"
      ]
    },
    {
      "cell_type": "markdown",
      "metadata": {
        "id": "Xa77GG_GgyNy"
      },
      "source": [
        "https://coreblog.org/ats/stuff/minpy_support/samplecodes04/"
      ]
    },
    {
      "cell_type": "code",
      "execution_count": null,
      "metadata": {
        "id": "pztiU74hevR8"
      },
      "outputs": [],
      "source": [
        "# Colaboratoryを使っている方は，以下6行の#を削除して，実行に必要なファイルをダウンロードするコードを実行してください。\n",
        "import requests\n",
        "baseurl = \"https://raw.githubusercontent.com/shibats/minpy_samplecodes_4th/master/Chapter12/\"\n",
        "for fname in [\"male_1944_2014.csv\", \"female_1944_2014.csv\", \"total_fertility_rate.csv\", \"lifechart2014.csv\"]:\n",
        "    r = requests.get(baseurl+fname)\n",
        "    with open(fname, 'w') as f:\n",
        "        f.write(r.text)"
      ]
    },
    {
      "cell_type": "code",
      "execution_count": null,
      "metadata": {
        "id": "7-7d_xJEe88N"
      },
      "outputs": [],
      "source": [
        "import numpy as np\n",
        "\n",
        "# 1944年から2014年までの5歳階級別の人口を男女別に読み込む\n",
        "p_male = np.loadtxt('male_1944_2014.csv', delimiter=\",\",\n",
        "                      skiprows=1, usecols=range(1, 22))\n",
        "p_female = np.loadtxt('female_1944_2014.csv', delimiter=\",\",\n",
        "                      skiprows=1, usecols=range(1, 22))"
      ]
    },
    {
      "cell_type": "code",
      "execution_count": null,
      "metadata": {
        "id": "ovIweBGwfAUL"
      },
      "outputs": [],
      "source": [
        "# 男女の5歳階級別人口を合計する\n",
        "p_total = p_male+p_female\n",
        "# 年ごとの人口になおす\n",
        "p_yearly = p_total.sum(axis=1)"
      ]
    },
    {
      "cell_type": "code",
      "execution_count": null,
      "metadata": {
        "colab": {
          "base_uri": "https://localhost:8080/",
          "height": 265
        },
        "id": "5Wj5f0GufERF",
        "outputId": "713c8d52-c0f0-4bf4-d631-dea11eb4fb5f"
      },
      "outputs": [
        {
          "data": {
            "image/png": "[encoded data removed]",
            "text/plain": [
              "<Figure size 432x288 with 1 Axes>"
            ]
          },
          "metadata": {},
          "output_type": "display_data"
        }
      ],
      "source": [
        "# 人口のグラフを表示する\n",
        "%matplotlib inline\n",
        "import matplotlib.pyplot as plt\n",
        "\n",
        "t = plt.plot(range(1944, 2015), p_yearly)\n",
        "plt.ylim((0, 130000))\n",
        "plt.grid(True)"
      ]
    }
  ],
  "metadata": {
    "colab": {
      "provenance": [],
      "toc_visible": true,
      "include_colab_link": true
    },
    "kernelspec": {
      "display_name": "Python 3",
      "name": "python3"
    }
  },
  "nbformat": 4,
  "nbformat_minor": 0
}